{
 "cells": [
  {
   "cell_type": "code",
   "execution_count": 1,
   "metadata": {},
   "outputs": [],
   "source": [
    "import os\n",
    "import instructor\n",
    "from openai import OpenAI\n",
    "from pydantic import BaseModel, Field\n",
    "from typing import List"
   ]
  },
  {
   "cell_type": "markdown",
   "metadata": {},
   "source": [
    "### Snippets with LLM\n"
   ]
  },
  {
   "cell_type": "code",
   "execution_count": 94,
   "metadata": {},
   "outputs": [],
   "source": [
    "api_key = os.getenv(\"BLABLADOR_API_KEY\")\n",
    "# client = instructor.patch(OpenAI(api_key=api_key))\n",
    "client = instructor.patch(\n",
    "    OpenAI(\n",
    "        api_key=api_key,\n",
    "        base_url=\"https://helmholtz-blablador.fz-juelich.de:8000/v1/\",\n",
    "    ),\n",
    "    mode=instructor.Mode.MD_JSON,\n",
    ")"
   ]
  },
  {
   "cell_type": "code",
   "execution_count": 91,
   "metadata": {},
   "outputs": [],
   "source": [
    "# Extract from the title and abstract ONLY directly relevant sentences or phrases relevant to the given question. If no such sentences or phrases found, return an empty list.\n",
    "SNIPPET_TEMPLATE = \"\"\"\n",
    "Here are 3 examples:\n",
    "[Title]: Rethinking ramoplanin: the role of substrate binding in inhibition of peptidoglycan biosynthesis\n",
    "[Abstract]: Ramoplanin is a cyclicdepsipeptide antibiotic that inhibits peptidoglycan biosynthesis. It was proposed in 1990 to block the MurG step of peptidoglycan synthesis by binding to the substrate of MurG, Lipid I. The proposed mechanism of MurG inhibition has become widely accepted even though it was never directly tested. In this paper, we disprove the accepted mechanism for how ramoplanin functions, and we present an alternative mechanism. This work has implications for the design of ramoplanin derivatives and may influence how other proposed substrate binding antibiotics are studied.\n",
    "[Question]: Which was the first adeno-associated virus vector gene therapy product approved in the United States?\n",
    "[Extracted]:\n",
    "Title sentences: [empty list] (no sentences or phrases that directly answer the question)\n",
    "Abstract sentences: [empty list] (no sentences or phrases that directly answer the question)\n",
    "******************\n",
    "[Title]: Rethinking ramoplanin: the role of substrate binding in inhibition of peptidoglycan biosynthesis\n",
    "[Abstract]: Ramoplanin is a cyclicdepsipeptide antibiotic that inhibits peptidoglycan biosynthesis. It was proposed in 1990 to block the MurG step of peptidoglycan synthesis by binding to the substrate of MurG, Lipid I. The proposed mechanism of MurG inhibition has become widely accepted even though it was never directly tested. In this paper, we disprove the accepted mechanism for how ramoplanin functions, and we present an alternative mechanism. This work has implications for the design of ramoplanin derivatives and may influence how other proposed substrate binding antibiotics are studied.\n",
    "[Question]: Which antibiotics target peptidoglycan biosynthesis?\n",
    "[Extracted]: \n",
    "Title sentences: [\"Rethinking ramoplanin: the role of substrate binding in inhibition of peptidoglycan biosynthesis.\"]\n",
    "Abstract sentences: [\"Ramoplanin is a cyclicdepsipeptide antibiotic that inhibits peptidoglycan biosynthesis.\"]\n",
    "******************\n",
    "[Title]: Mycobacterium Avium Complex (MAC) Lung Disease in Two Inner City Community Hospitals: Recognition, Prevalence, Co-Infection with Mycobacterium Tuberculosis (MTB) and Pulmonary Function (PF) Improvements After Treatment.\n",
    "[Abstract]: Over 4 years, we evaluated patients who had positive MAC cultures, MAC infection and coinfection with MTB. Lung disease was related/likely related to MAC in 21 patients (50%) and not related in 21 (50%). In patients with MAC-related lung disease, the primary physician did not consider the diagnosis except when that physician was a pulmonologist. Half of those with MAC-related lung disease were smokers, white and US-born. There were 12 immunocompetent patients with MTB and NTM cultures. Eleven were non-white and all were foreign-born. Presentation and clinical course were consistent with MTB. All 8 patients with abnormal PF improved. The prevalence of MAC lung infection in two inner city hospitals was four times higher than that of TB. The indication for treatment of MAC infection should also rely heavily on clinical and radiological evidence when there is only one positive sputum culture. The diagnosis was considered only when the admitting physician was a pulmonologist. Most patients with combined infection were clinically consistent with MTB and responded to anti MTB treatment alone. Treatment with anti-MAC therapy improved PF in those patients whose PF was abnormal to begin with.\n",
    "[Question]: Is Mycobacterium avium less susceptible to antibiotics than Mycobacterium tuberculosis?\n",
    "[Extracted]:\n",
    "Title sentences: [empty list] (no sentences or phrases that directly answer the question) \n",
    "Abstract sentences: [\"The prevalence of MAC lung infection in two inner city hospitals was four times higher than that of TB.\", \"Most patients with combined infection were clinically consistent with MTB and responded to anti MTB treatment alone.\"]\n",
    "******************\n",
    "\n",
    "Here is the data:\n",
    "\n",
    "[Title]: {title} \n",
    "[Abstract]: {abstract}\n",
    "[Question]: {question}\n",
    "[Extracted]:\n",
    "\n",
    "\"\"\""
   ]
  },
  {
   "cell_type": "code",
   "execution_count": 801,
   "metadata": {},
   "outputs": [],
   "source": [
    "# SNIPPET_TEMPLATE = \"\"\"\n",
    "# Here is the data:\n",
    "# ******************\n",
    "# [Title]: {title}\n",
    "# [Abstract]: {abstract}\n",
    "# Extract from the [Title] and [Abstract] complete sentences or parts of sentences (phrases) that contain the answer to the question: ```{question}```.\n",
    "# If no such sentences or phrases found, return an empty list.\n",
    "# \"\"\""
   ]
  },
  {
   "cell_type": "code",
   "execution_count": 96,
   "metadata": {},
   "outputs": [],
   "source": [
    "SNIPPET_TEMPLATE = \"\"\"\n",
    "Question: {question}\n",
    "Title: {title}\n",
    "Abstract: {abstract}\n",
    "\"\"\""
   ]
  },
  {
   "cell_type": "code",
   "execution_count": 604,
   "metadata": {},
   "outputs": [],
   "source": [
    "# SNIPPET_TEMPLATE = \"\"\"\n",
    "# Extract from the title and abstract complete sentences or parts of sentences (phrases) that contain the answer to the given question. If no relevant sentences or phrases found, return an empty list.\n",
    "\n",
    "# [Begin Examples]\n",
    "# ******************\n",
    "# [Title]: Rethinking ramoplanin: the role of substrate binding in inhibition of peptidoglycan biosynthesis\n",
    "# [Abstract]: Ramoplanin is a cyclicdepsipeptide antibiotic that inhibits peptidoglycan biosynthesis. It was proposed in 1990 to block the MurG step of peptidoglycan synthesis by binding to the substrate of MurG, Lipid I. The proposed mechanism of MurG inhibition has become widely accepted even though it was never directly tested. In this paper, we disprove the accepted mechanism for how ramoplanin functions, and we present an alternative mechanism. This work has implications for the design of ramoplanin derivatives and may influence how other proposed substrate binding antibiotics are studied.\n",
    "# [Extracted]:\n",
    "# Title sentences that answer the question Which antibiotics target peptidoglycan biosynthesis?: [\"Rethinking ramoplanin: the role of substrate binding in inhibition of peptidoglycan biosynthesis.\"]\n",
    "# Abstract sentences that answer the question: [\"Ramoplanin is a cyclicdepsipeptide antibiotic that inhibits peptidoglycan biosynthesis.\"]\n",
    "# ******************\n",
    "# [Title]: Mycobacterium Avium Complex (MAC) Lung Disease in Two Inner City Community Hospitals: Recognition, Prevalence, Co-Infection with Mycobacterium Tuberculosis (MTB) and Pulmonary Function (PF) Improvements After Treatment.\n",
    "# [Abstract]: Over 4 years, we evaluated patients who had positive MAC cultures, MAC infection and coinfection with MTB. Lung disease was related/likely related to MAC in 21 patients (50%) and not related in 21 (50%). In patients with MAC-related lung disease, the primary physician did not consider the diagnosis except when that physician was a pulmonologist. Half of those with MAC-related lung disease were smokers, white and US-born. There were 12 immunocompetent patients with MTB and NTM cultures. Eleven were non-white and all were foreign-born. Presentation and clinical course were consistent with MTB. All 8 patients with abnormal PF improved. The prevalence of MAC lung infection in two inner city hospitals was four times higher than that of TB. The indication for treatment of MAC infection should also rely heavily on clinical and radiological evidence when there is only one positive sputum culture. The diagnosis was considered only when the admitting physician was a pulmonologist. Most patients with combined infection were clinically consistent with MTB and responded to anti MTB treatment alone. Treatment with anti-MAC therapy improved PF in those patients whose PF was abnormal to begin with.\n",
    "# [Extracted]:\n",
    "# Title sentences that answer the question Is Mycobacterium avium less susceptible to antibiotics than Mycobacterium tuberculosis?: []\n",
    "# Abstract sentences the question Is Mycobacterium avium less susceptible to antibiotics than Mycobacterium tuberculosis?: [\"The prevalence of MAC lung infection in two inner city hospitals was four times higher than that of TB.\", \"Most patients with combined infection were clinically consistent with MTB and responded to anti MTB treatment alone.\"]\n",
    "# ******************\n",
    "# [Title]: Rethinking ramoplanin: the role of substrate binding in inhibition of peptidoglycan biosynthesis\n",
    "# [Abstract]: Ramoplanin is a cyclicdepsipeptide antibiotic that inhibits peptidoglycan biosynthesis. It was proposed in 1990 to block the MurG step of peptidoglycan synthesis by binding to the substrate of MurG, Lipid I. The proposed mechanism of MurG inhibition has become widely accepted even though it was never directly tested. In this paper, we disprove the accepted mechanism for how ramoplanin functions, and we present an alternative mechanism. This work has implications for the design of ramoplanin derivatives and may influence how other proposed substrate binding antibiotics are studied.\n",
    "# [Extracted]:\n",
    "# Title sentences that answer the question Which was the first adeno-associated virus vector gene therapy product approved in the United States?: []\n",
    "# Abstract sentences the question Which was the first adeno-associated virus vector gene therapy product approved in the United States?: []\n",
    "# ******************\n",
    "# [End Examples]\n",
    "\n",
    "# Here is the data:\n",
    "# ******************\n",
    "# [Title]: {title}\n",
    "# [Abstract]: {abstract}\n",
    "# Title sentences that answer the question {question}:\n",
    "# Abstract sentences the question {question}:\n",
    "# \"\"\""
   ]
  },
  {
   "cell_type": "code",
   "execution_count": 9,
   "metadata": {},
   "outputs": [],
   "source": [
    "class Snippets(BaseModel):\n",
    "    title_sentences: List = Field(\n",
    "        ...,\n",
    "        description=\"ONLY sentences or phrases from title that directly answer the given question, or empty list if no answer present\",\n",
    "    )\n",
    "    abstract_sentences: List = Field(\n",
    "        ...,\n",
    "        description=\"ONLY sentences or phrases from abstract that directly answer the question, or empty list if no answer present\",\n",
    "    )\n",
    "    score: float = Field(\n",
    "        ..., description=\"how confident are you: score between 0 and 1\"\n",
    "    )\n",
    "    chain_of_thought: str = Field(\n",
    "        ...,\n",
    "        description=\"Think step by step to make a good decision. Are there extracted sentences that directly answer the question?\",\n",
    "    )\n",
    "\n",
    "\n",
    "class ExtractedSnippets(BaseModel):\n",
    "    snippets: Snippets"
   ]
  },
  {
   "cell_type": "code",
   "execution_count": 473,
   "metadata": {},
   "outputs": [],
   "source": [
    "# class Snippets(BaseModel):\n",
    "#     title_sentences: List\n",
    "#     abstract_sentences: List\n",
    "\n",
    "\n",
    "# class ExtractedSnippets(BaseModel):\n",
    "#     snippets: Snippets"
   ]
  },
  {
   "cell_type": "code",
   "execution_count": 95,
   "metadata": {},
   "outputs": [],
   "source": [
    "def get_snippets(question: str, title: str, abstract: str) -> ExtractedSnippets:\n",
    "    submission = SNIPPET_TEMPLATE.format(\n",
    "        question=question, title=title, abstract=abstract\n",
    "    )\n",
    "    resp = client.chat.completions.create(\n",
    "        # model=\"gpt-3.5-turbo-0613\",\n",
    "        model=\"Mixtral-8x7B-Instruct-v0.1\",\n",
    "        # model=\"gpt-3.5-turbo\",\n",
    "        # model=\"Mistral-7B-Instruct-v0.2\",\n",
    "        messages=[\n",
    "            {\n",
    "                \"role\": \"system\",\n",
    "                \"content\": \"You are a world class system to extract relevant sentences from titles and abstracts answering questions\",\n",
    "            },\n",
    "            {\n",
    "                \"role\": \"user\",\n",
    "                \"content\": \"Extract from the title and abstract ONLY sentences of phrases that directly answer the question\",\n",
    "            },\n",
    "            {\n",
    "                \"role\": \"user\",\n",
    "                \"content\": submission,\n",
    "            },\n",
    "        ],\n",
    "        temperature=0,\n",
    "        response_model=Snippets,\n",
    "        max_tokens=1000,\n",
    "    )\n",
    "    return resp"
   ]
  },
  {
   "cell_type": "code",
   "execution_count": 893,
   "metadata": {},
   "outputs": [],
   "source": [
    "# question = \"Is Mycobacterium avium less susceptible to antibiotics than Mycobacterium tuberculosis?\"\n",
    "# question = \"Is London a safe city to live in?\"\n",
    "question = (\n",
    "    \"What is the mechanism by which HIV-1-encoded Vif protein allows virus replication?\"\n",
    ")\n",
    "# question = \"Please list 2 human diseases caused by a coronavirus.\"\n",
    "title = \"HIV-1 subtype variability in Vif derived from molecular clones affects APOBEC3G-mediated host restriction\"\n",
    "abstract = \"Background: The host protein APOBEC3G (A3G) can limit HIV-1 replication. Its protective effect is overcome by the HIV-1 'viral infectivity factor' (Vif), which targets A3G for proteosomal degradation. Although Vif is considered to be essential for HIV-1 replication, the effect of Vif variability among commonly used HIV-1 molecular clones of different genetic backgrounds on viral infectiousness and pathogenesis has not been fully determined. Methods: We cloned the intact Vif coding regions of available molecular clones of different subtypes into expression vectors. Δvif full-length HIV-1 clonal variants were generated from corresponding subtype-specific full-length molecular clones. Replication-competent viruses were produced in 293T cells in the presence or absence of A3G, with Vif being supplied by the full-length HIV-1 clone or in trans. The extent of A3G-mediated restriction was then determined in a viral replication assay using a reporter cell line. Results and conclusions: In the absence of A3G, Vif subtype origin did not impact viral replication. In the presence of A3G the subtype origin of Vif had a differential effect on viral replication. Vif derived from a subtype C molecular clone was less effective at overcoming A3G-mediated inhibition than Vif derived from either subtype B or CRF02_AG molecular clones.\""
   ]
  },
  {
   "cell_type": "code",
   "execution_count": 11,
   "metadata": {},
   "outputs": [],
   "source": [
    "question = \"Please list 2 human diseases caused by a coronavirus.\"\n",
    "title = \"Host Factors in Coronavirus Replication\"\n",
    "abstract = \"Coronaviruses are pathogens with a serious impact on human and animal health. They mostly cause enteric or respiratory disease, which can be severe and life threatening, e.g., in the case of the zoonotic coronaviruses causing severe acute respiratory syndrome (SARS) and Middle East Respiratory Syndrome (MERS) in humans. Despite the economic and societal impact of such coronavirus infections, and the likelihood of future outbreaks of additional pathogenic coronaviruses, our options to prevent or treat coronavirus infections remain very limited. This highlights the importance of advancing our knowledge on the replication of these viruses and their interactions with the host. Compared to other +RNA viruses, coronaviruses have an exceptionally large genome and employ a complex genome expression strategy. Next to a role in basic virus replication or virus assembly, many of the coronavirus proteins expressed in the infected cell contribute to the coronavirus-host interplay. For example, by interacting with the host cell to create an optimal environment for coronavirus replication, by altering host gene expression or by counteracting the host's antiviral defenses. These coronavirus-host interactions are key to viral pathogenesis and will ultimately determine the outcome of infection. Due to the complexity of the coronavirus proteome and replication cycle, our knowledge of host factors involved in coronavirus replication is still in an early stage compared to what is known for some other +RNA viruses. This review summarizes our current understanding of coronavirus-host interactions at the level of the infected cell, with special attention for the assembly and function of the viral RNA-synthesising machinery and the evasion of cellular innate immune responses.\""
   ]
  },
  {
   "cell_type": "code",
   "execution_count": 97,
   "metadata": {},
   "outputs": [],
   "source": [
    "resp = get_snippets(question=question, title=title, abstract=abstract)"
   ]
  },
  {
   "cell_type": "code",
   "execution_count": 98,
   "metadata": {},
   "outputs": [
    {
     "name": "stdout",
     "output_type": "stream",
     "text": [
      "[]\n",
      "['They mostly cause enteric or respiratory disease, which can be severe and life threatening, e.g., in the case of the zoonotic coronaviruses causing severe acute respiratory syndrome (SARS) and Middle East Respiratory Syndrome (MERS) in humans.']\n",
      "0.9\n",
      "The title does not provide any direct answers to the question. In the abstract, I found one sentence mentioning two human diseases caused by coronaviruses: SARS and MERS. I am confident in this answer, but I did not find any matching sentences in the title.\n"
     ]
    }
   ],
   "source": [
    "print(resp.title_sentences)\n",
    "print(resp.abstract_sentences)\n",
    "print(resp.score)\n",
    "print(resp.chain_of_thought)"
   ]
  },
  {
   "cell_type": "code",
   "execution_count": 844,
   "metadata": {},
   "outputs": [],
   "source": [
    "# correct\n",
    "# title: []\n",
    "# abstract:\n",
    "# They mostly cause enteric or respiratory disease, which can be severe and life threatening, e.g., in the case of the zoonotic coronaviruses causing\n",
    "# severe acute respiratory syndrome (SARS) and Middle East Respiratory Syndrome (MERS) in humans."
   ]
  },
  {
   "cell_type": "code",
   "execution_count": null,
   "metadata": {},
   "outputs": [],
   "source": [
    "# correct\n",
    "# title: []\n",
    "# abstract:\n",
    "# The host protein APOBEC3G (A3G) can limit HIV-1 replication. Its protective effect is overcome by the HIV-1 'viral infectivity factor' (Vif), which targets A3G for proteosomal degradation"
   ]
  },
  {
   "cell_type": "code",
   "execution_count": 899,
   "metadata": {},
   "outputs": [],
   "source": [
    "# print(SNIPPET_TEMPLATE.format(question=question, title=title, abstract=abstract))"
   ]
  },
  {
   "cell_type": "markdown",
   "metadata": {},
   "source": [
    "### Snippets with extractive QA models\n"
   ]
  },
  {
   "cell_type": "code",
   "execution_count": 11,
   "metadata": {},
   "outputs": [],
   "source": [
    "question = (\n",
    "    \"What is the mechanism by which HIV-1-encoded Vif protein allows virus replication?\"\n",
    ")\n",
    "\n",
    "title = \"HIV-1 subtype variability in Vif derived from molecular clones affects APOBEC3G-mediated host restriction\"\n",
    "abstract = \"Background: The host protein APOBEC3G (A3G) can limit HIV-1 replication. Its protective effect is overcome by the HIV-1 'viral infectivity factor' (Vif), which targets A3G for proteosomal degradation. Although Vif is considered to be essential for HIV-1 replication, the effect of Vif variability among commonly used HIV-1 molecular clones of different genetic backgrounds on viral infectiousness and pathogenesis has not been fully determined. Methods: We cloned the intact Vif coding regions of available molecular clones of different subtypes into expression vectors. Δvif full-length HIV-1 clonal variants were generated from corresponding subtype-specific full-length molecular clones. Replication-competent viruses were produced in 293T cells in the presence or absence of A3G, with Vif being supplied by the full-length HIV-1 clone or in trans. The extent of A3G-mediated restriction was then determined in a viral replication assay using a reporter cell line. Results and conclusions: In the absence of A3G, Vif subtype origin did not impact viral replication. In the presence of A3G the subtype origin of Vif had a differential effect on viral replication. Vif derived from a subtype C molecular clone was less effective at overcoming A3G-mediated inhibition than Vif derived from either subtype B or CRF02_AG molecular clones.\""
   ]
  },
  {
   "cell_type": "code",
   "execution_count": 12,
   "metadata": {},
   "outputs": [],
   "source": [
    "from transformers import pipeline\n",
    "\n",
    "# model = \"deutsche-telekom/bert-multi-english-german-squad2\"\n",
    "# tokenizer = \"deutsche-telekom/bert-multi-english-german-squad2\"\n",
    "# model = \"deepset/gelectra-large-germanquad\"\n",
    "# tokenizer = \"deepset/gelectra-large-germanquad\"\n",
    "# model = \"Abdullah22/my_finetuned_german_gelectra3\"\n",
    "# tokenizer = \"Abdullah22/my_finetuned_german_gelectra3\"\n",
    "# model = \"themariolinml/roberta-base-sqaud2-on-medical_meadow_medqa-v1\"\n",
    "# tokenizer = \"themariolinml/roberta-base-sqaud2-on-medical_meadow_medqa-v1\"\n",
    "model = \"bigwiz83/sapbert-from-pubmedbert-squad2\"\n",
    "tokenizer = \"bigwiz83/sapbert-from-pubmedbert-squad2\"\n",
    "\n",
    "qa_pipeline = pipeline(\n",
    "    \"question-answering\",\n",
    "    model=model,\n",
    "    tokenizer=tokenizer,\n",
    "    top_k=5,\n",
    "    max_seq_len=512,\n",
    "    max_question_len=15,\n",
    "    max_answer_len=512,\n",
    "    handle_impossible_answer=False,\n",
    "    # torch_dtype=torch.bfloat16\n",
    ")\n",
    "\n",
    "# question = \"Is London good?\"\n",
    "response = qa_pipeline(question, abstract)"
   ]
  },
  {
   "cell_type": "code",
   "execution_count": 976,
   "metadata": {},
   "outputs": [],
   "source": [
    "# ideal answer\n",
    "# The HIV-1 Vif protein counteracts the antiviral activity of the APOBEC3 family by targeting the proteins for degradation through\n",
    "# the ubiquitin-proteasome pathway. More specifically, Vif, serving as a substrate receptor, facilitates ubiquitination of APOBEC3 proteins by forming\n",
    "# a Cullin5-based E3 ubiquitin ligase complex, which targets APOBEC3 proteins for rapid proteasomal degradation.'\n",
    "\n",
    "# correct span:\n",
    "# The host protein APOBEC3G (A3G) can limit HIV-1 replication. Its protective effect is overcome by the HIV-1 'viral infectivity factor' (Vif),\n",
    "# which targets A3G for proteosomal degradation"
   ]
  },
  {
   "cell_type": "code",
   "execution_count": 977,
   "metadata": {},
   "outputs": [],
   "source": [
    "# These 2 are quite good for this example, they catch the shorter span inside the correct span\n",
    "# model = \"deepset/gelectra-large-germanquad\"\n",
    "# model = \"Abdullah22/my_finetuned_german_gelectra3\"\n",
    "# They would fall for an adversary question like Is London good?, but the probabilities are much lower\n",
    "# the second model would even return 'score': 0.019482115283608437, 'start': 0, 'end': 0, 'answer': ''} (handle_impossible_answer=True) setting it to True might be tricky\n",
    "# since the model can place at top-1 the no answer with a very high probability\n",
    "# bigwiz83/sapbert-from-pubmedbert-squad2 is also okay, seems to be more robust for adversarial non-medical questions"
   ]
  },
  {
   "cell_type": "code",
   "execution_count": 4,
   "metadata": {},
   "outputs": [
    {
     "data": {
      "text/plain": [
       "'What is the mechanism by which HIV-1-encoded Vif protein allows virus replication?'"
      ]
     },
     "execution_count": 4,
     "metadata": {},
     "output_type": "execute_result"
    }
   ],
   "source": [
    "question"
   ]
  },
  {
   "cell_type": "code",
   "execution_count": 13,
   "metadata": {},
   "outputs": [
    {
     "data": {
      "text/plain": [
       "[{'score': 0.6542913317680359,\n",
       "  'start': 160,\n",
       "  'end': 199,\n",
       "  'answer': 'targets A3G for proteosomal degradation'},\n",
       " {'score': 0.13188529014587402,\n",
       "  'start': 176,\n",
       "  'end': 199,\n",
       "  'answer': 'proteosomal degradation'},\n",
       " {'score': 0.04295399412512779,\n",
       "  'start': 121,\n",
       "  'end': 199,\n",
       "  'answer': \"viral infectivity factor' (Vif), which targets A3G for proteosomal degradation\"},\n",
       " {'score': 0.0422237403690815,\n",
       "  'start': 160,\n",
       "  'end': 200,\n",
       "  'answer': 'targets A3G for proteosomal degradation.'},\n",
       " {'score': 0.031905144453048706,\n",
       "  'start': 160,\n",
       "  'end': 171,\n",
       "  'answer': 'targets A3G'}]"
      ]
     },
     "execution_count": 13,
     "metadata": {},
     "output_type": "execute_result"
    }
   ],
   "source": [
    "response"
   ]
  }
 ],
 "metadata": {
  "kernelspec": {
   "display_name": "forage",
   "language": "python",
   "name": "python3"
  },
  "language_info": {
   "codemirror_mode": {
    "name": "ipython",
    "version": 3
   },
   "file_extension": ".py",
   "mimetype": "text/x-python",
   "name": "python",
   "nbconvert_exporter": "python",
   "pygments_lexer": "ipython3",
   "version": "3.10.12"
  }
 },
 "nbformat": 4,
 "nbformat_minor": 2
}
