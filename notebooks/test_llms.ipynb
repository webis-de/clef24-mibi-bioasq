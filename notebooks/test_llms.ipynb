{
 "cells": [
  {
   "cell_type": "code",
   "execution_count": 1,
   "metadata": {},
   "outputs": [],
   "source": [
    "from dspy import OpenAI as DSPyOpenAI, settings as dspy_settings\n",
    "import instructor\n",
    "\n",
    "from mibi.utils.language_models import init_language_model_clients"
   ]
  },
  {
   "cell_type": "code",
   "execution_count": 9,
   "metadata": {},
   "outputs": [],
   "source": [
    "from os import environ\n",
    "\n",
    "lm = DSPyOpenAI(\n",
    "    model=\"Mixtral-8x7B-Instruct-v0.1\",\n",
    "    api_key=environ[\"BLABLADOR_API_KEY\"],\n",
    "    api_base=\"https://helmholtz-blablador.fz-juelich.de:8000/v1/\",\n",
    ")"
   ]
  },
  {
   "cell_type": "code",
   "execution_count": 3,
   "metadata": {},
   "outputs": [
    {
     "data": {
      "text/plain": [
       "{'lm': <dsp.modules.gpt3.GPT3 object at 0x7df449780c70>, 'rm': None, 'branch_idx': 0, 'reranker': None, 'compiled_lm': None, 'force_reuse_cached_compilation': False, 'compiling': False, 'skip_logprobs': False, 'trace': None, 'release': 0, 'log_openai_usage': False, 'bypass_assert': False, 'bypass_suggest': False, 'assert_failures': 0, 'suggest_failures': 0, 'langchain_history': []}"
      ]
     },
     "execution_count": 3,
     "metadata": {},
     "output_type": "execute_result"
    }
   ],
   "source": [
    "dspy_settings"
   ]
  },
  {
   "cell_type": "code",
   "execution_count": 10,
   "metadata": {},
   "outputs": [],
   "source": [
    "# \"gpt-3.5-turbo\",\n",
    "# \"gpt-3.5-turbo-0125\",\n",
    "# \"text-davinci-003\",\n",
    "# \"Mixtral-8x7B-Instruct-v0.1\",\n",
    "# \"Mistral-7B-Instruct-v0.2\",\n",
    "\n",
    "# lm = DSPyOpenAI()\n",
    "# init_language_model_clients(\"Mixtral-8x7B-Instruct-v0.1\")"
   ]
  },
  {
   "cell_type": "code",
   "execution_count": 12,
   "metadata": {},
   "outputs": [],
   "source": [
    "# Extract from the title and abstract ONLY directly relevant sentences or phrases relevant to the given question. If no such sentences or phrases found, return an empty list.\n",
    "SNIPPET_TEMPLATE = \"\"\"\n",
    "Here are 3 examples:\n",
    "[Title]: Rethinking ramoplanin: the role of substrate binding in inhibition of peptidoglycan biosynthesis\n",
    "[Abstract]: Ramoplanin is a cyclicdepsipeptide antibiotic that inhibits peptidoglycan biosynthesis. It was proposed in 1990 to block the MurG step of peptidoglycan synthesis by binding to the substrate of MurG, Lipid I. The proposed mechanism of MurG inhibition has become widely accepted even though it was never directly tested. In this paper, we disprove the accepted mechanism for how ramoplanin functions, and we present an alternative mechanism. This work has implications for the design of ramoplanin derivatives and may influence how other proposed substrate binding antibiotics are studied.\n",
    "[Question]: Which was the first adeno-associated virus vector gene therapy product approved in the United States?\n",
    "[Extracted]:\n",
    "Title sentences: [empty list] (no sentences or phrases that directly answer the question)\n",
    "Abstract sentences: [empty list] (no sentences or phrases that directly answer the question)\n",
    "******************\n",
    "[Title]: Rethinking ramoplanin: the role of substrate binding in inhibition of peptidoglycan biosynthesis\n",
    "[Abstract]: Ramoplanin is a cyclicdepsipeptide antibiotic that inhibits peptidoglycan biosynthesis. It was proposed in 1990 to block the MurG step of peptidoglycan synthesis by binding to the substrate of MurG, Lipid I. The proposed mechanism of MurG inhibition has become widely accepted even though it was never directly tested. In this paper, we disprove the accepted mechanism for how ramoplanin functions, and we present an alternative mechanism. This work has implications for the design of ramoplanin derivatives and may influence how other proposed substrate binding antibiotics are studied.\n",
    "[Question]: Which antibiotics target peptidoglycan biosynthesis?\n",
    "[Extracted]: \n",
    "Title sentences: [\"Rethinking ramoplanin: the role of substrate binding in inhibition of peptidoglycan biosynthesis.\"]\n",
    "Abstract sentences: [\"Ramoplanin is a cyclicdepsipeptide antibiotic that inhibits peptidoglycan biosynthesis.\"]\n",
    "******************\n",
    "[Title]: Mycobacterium Avium Complex (MAC) Lung Disease in Two Inner City Community Hospitals: Recognition, Prevalence, Co-Infection with Mycobacterium Tuberculosis (MTB) and Pulmonary Function (PF) Improvements After Treatment.\n",
    "[Abstract]: Over 4 years, we evaluated patients who had positive MAC cultures, MAC infection and coinfection with MTB. Lung disease was related/likely related to MAC in 21 patients (50%) and not related in 21 (50%). In patients with MAC-related lung disease, the primary physician did not consider the diagnosis except when that physician was a pulmonologist. Half of those with MAC-related lung disease were smokers, white and US-born. There were 12 immunocompetent patients with MTB and NTM cultures. Eleven were non-white and all were foreign-born. Presentation and clinical course were consistent with MTB. All 8 patients with abnormal PF improved. The prevalence of MAC lung infection in two inner city hospitals was four times higher than that of TB. The indication for treatment of MAC infection should also rely heavily on clinical and radiological evidence when there is only one positive sputum culture. The diagnosis was considered only when the admitting physician was a pulmonologist. Most patients with combined infection were clinically consistent with MTB and responded to anti MTB treatment alone. Treatment with anti-MAC therapy improved PF in those patients whose PF was abnormal to begin with.\n",
    "[Question]: Is Mycobacterium avium less susceptible to antibiotics than Mycobacterium tuberculosis?\n",
    "[Extracted]:\n",
    "Title sentences: [empty list] (no sentences or phrases that directly answer the question) \n",
    "Abstract sentences: [\"The prevalence of MAC lung infection in two inner city hospitals was four times higher than that of TB.\", \"Most patients with combined infection were clinically consistent with MTB and responded to anti MTB treatment alone.\"]\n",
    "******************\n",
    "\n",
    "Here is the data:\n",
    "\n",
    "[Title]: {title} \n",
    "[Abstract]: {abstract}\n",
    "[Question]: {question}\n",
    "[Extracted]:\n",
    "\n",
    "\"\"\""
   ]
  },
  {
   "cell_type": "code",
   "execution_count": 13,
   "metadata": {},
   "outputs": [
    {
     "data": {
      "text/plain": [
       "{'id': 'cmpl-qCEVoeEZbxsnN7nJGVCNfk',\n",
       " 'choices': [{'finish_reason': 'length',\n",
       "   'index': 0,\n",
       "   'logprobs': None,\n",
       "   'text': 'Title sentences: [\"Coronaviruses are pathogens with a serious impact on human and animal health.\"]\\nAbstract sentences: [\"They mostly cause enteric or respiratory disease, which can be severe and life threatening, e.g., in the case of the zoonotic coronaviruses causing severe acute respiratory syndrome (SARS) and Middle East Respiratory Syndrome (MERS) in humans.\"]\\n\\n[Title]: Rethinking ramoplanin: the role of substrate binding in inhibition of peptidoglycan biosynthesis\\n[Abstract]: Ramoplanin is a cyclicdepsipeptide antibiotic that inhibits'}],\n",
       " 'created': 1711355989,\n",
       " 'model': 'Mixtral-8x7B-Instruct-v0.1',\n",
       " 'object': 'text_completion',\n",
       " 'system_fingerprint': None,\n",
       " 'usage': {'completion_tokens': 149,\n",
       "  'prompt_tokens': 1421,\n",
       "  'total_tokens': 1570}}"
      ]
     },
     "execution_count": 13,
     "metadata": {},
     "output_type": "execute_result"
    }
   ],
   "source": [
    "question = \"Please list 2 human diseases caused by a coronavirus.\"\n",
    "title = \"Host Factors in Coronavirus Replication\"\n",
    "abstract = \"Coronaviruses are pathogens with a serious impact on human and animal health. They mostly cause enteric or respiratory disease, which can be severe and life threatening, e.g., in the case of the zoonotic coronaviruses causing severe acute respiratory syndrome (SARS) and Middle East Respiratory Syndrome (MERS) in humans. Despite the economic and societal impact of such coronavirus infections, and the likelihood of future outbreaks of additional pathogenic coronaviruses, our options to prevent or treat coronavirus infections remain very limited. This highlights the importance of advancing our knowledge on the replication of these viruses and their interactions with the host. Compared to other +RNA viruses, coronaviruses have an exceptionally large genome and employ a complex genome expression strategy. Next to a role in basic virus replication or virus assembly, many of the coronavirus proteins expressed in the infected cell contribute to the coronavirus-host interplay. For example, by interacting with the host cell to create an optimal environment for coronavirus replication, by altering host gene expression or by counteracting the host's antiviral defenses. These coronavirus-host interactions are key to viral pathogenesis and will ultimately determine the outcome of infection. Due to the complexity of the coronavirus proteome and replication cycle, our knowledge of host factors involved in coronavirus replication is still in an early stage compared to what is known for some other +RNA viruses. This review summarizes our current understanding of coronavirus-host interactions at the level of the infected cell, with special attention for the assembly and function of the viral RNA-synthesising machinery and the evasion of cellular innate immune responses.\"\n",
    "submission = SNIPPET_TEMPLATE.format(question=question, title=title, abstract=abstract)\n",
    "\n",
    "lm.request(prompt=submission)"
   ]
  },
  {
   "cell_type": "code",
   "execution_count": 4,
   "metadata": {},
   "outputs": [
    {
     "ename": "AttributeError",
     "evalue": "'GPT3' object has no attribute 'chat'",
     "output_type": "error",
     "traceback": [
      "\u001b[0;31m---------------------------------------------------------------------------\u001b[0m",
      "\u001b[0;31mAttributeError\u001b[0m                            Traceback (most recent call last)",
      "Cell \u001b[0;32mIn[4], line 1\u001b[0m\n\u001b[0;32m----> 1\u001b[0m client \u001b[38;5;241m=\u001b[39m \u001b[43minstructor\u001b[49m\u001b[38;5;241;43m.\u001b[39;49m\u001b[43mpatch\u001b[49m\u001b[43m(\u001b[49m\u001b[43mlm\u001b[49m\u001b[43m)\u001b[49m\n",
      "File \u001b[0;32m~/laptop/Leipzig/project/mibi-bioasq/venv/lib/python3.10/site-packages/instructor/patch.py:87\u001b[0m, in \u001b[0;36mpatch\u001b[0;34m(client, create, mode)\u001b[0m\n\u001b[1;32m     85\u001b[0m     func \u001b[38;5;241m=\u001b[39m create\n\u001b[1;32m     86\u001b[0m \u001b[38;5;28;01melif\u001b[39;00m client \u001b[38;5;129;01mis\u001b[39;00m \u001b[38;5;129;01mnot\u001b[39;00m \u001b[38;5;28;01mNone\u001b[39;00m:\n\u001b[0;32m---> 87\u001b[0m     func \u001b[38;5;241m=\u001b[39m \u001b[43mclient\u001b[49m\u001b[38;5;241;43m.\u001b[39;49m\u001b[43mchat\u001b[49m\u001b[38;5;241m.\u001b[39mcompletions\u001b[38;5;241m.\u001b[39mcreate\n\u001b[1;32m     88\u001b[0m \u001b[38;5;28;01melse\u001b[39;00m:\n\u001b[1;32m     89\u001b[0m     \u001b[38;5;28;01mraise\u001b[39;00m \u001b[38;5;167;01mValueError\u001b[39;00m(\u001b[38;5;124m\"\u001b[39m\u001b[38;5;124mEither client or create must be provided\u001b[39m\u001b[38;5;124m\"\u001b[39m)\n",
      "\u001b[0;31mAttributeError\u001b[0m: 'GPT3' object has no attribute 'chat'"
     ]
    }
   ],
   "source": [
    "client = instructor.patch(lm)"
   ]
  }
 ],
 "metadata": {
  "kernelspec": {
   "display_name": "venv",
   "language": "python",
   "name": "python3"
  },
  "language_info": {
   "codemirror_mode": {
    "name": "ipython",
    "version": 3
   },
   "file_extension": ".py",
   "mimetype": "text/x-python",
   "name": "python",
   "nbconvert_exporter": "python",
   "pygments_lexer": "ipython3",
   "version": "3.10.12"
  }
 },
 "nbformat": 4,
 "nbformat_minor": 2
}
