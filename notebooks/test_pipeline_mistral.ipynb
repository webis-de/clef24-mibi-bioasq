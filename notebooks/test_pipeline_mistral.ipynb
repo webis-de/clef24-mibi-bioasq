{
 "cells": [
  {
   "cell_type": "code",
   "execution_count": 3,
   "metadata": {},
   "outputs": [],
   "source": [
    "import ast\n",
    "import json\n",
    "import os\n",
    "import pandas as pd\n",
    "from tqdm import tqdm\n",
    "from mibi.modules import DocumentsModule, Question\n",
    "from test_utils import (\n",
    "    get_snippets,\n",
    "    PubMedApiRetrieve,\n",
    "    rerank_biencoder,\n",
    "    rerank_crossencoder,\n",
    "    get_snippets,\n",
    "    get_offset,\n",
    "    response_exact_answer,\n",
    "    response_ideal_answer,\n",
    "    flat_list,\n",
    "    get_snippets_blablador,\n",
    "    retrieve_bm25,\n",
    "    response_exact_answer_mistral,\n",
    "    response_ideal_answer_mistral,\n",
    ")"
   ]
  },
  {
   "cell_type": "markdown",
   "metadata": {},
   "source": [
    "### Blablador Mistral API for snippets\n"
   ]
  },
  {
   "cell_type": "code",
   "execution_count": 4,
   "metadata": {},
   "outputs": [
    {
     "name": "stderr",
     "output_type": "stream",
     "text": [
      "100%|██████████| 85/85 [2:00:56<00:00, 85.37s/it]   \n"
     ]
    }
   ],
   "source": [
    "IN_DIR = \"temp/reranked/\"\n",
    "\n",
    "for file in tqdm(os.listdir(IN_DIR)):\n",
    "    reranked = pd.read_csv(os.path.join(IN_DIR, file))\n",
    "    reranked[\"snippets_blablador_mistral\"] = reranked.apply(\n",
    "        lambda x: get_snippets_blablador(\n",
    "            x[\"question\"], x[\"title\"], x[\"text\"], model=\"Mistral-7B-Instruct-v0.2\"\n",
    "        ),\n",
    "        axis=1,\n",
    "    )\n",
    "\n",
    "    reranked[\"title_snippets_mistral\"] = [\n",
    "        x[0] for x in reranked[\"snippets_blablador_mistral\"]\n",
    "    ]\n",
    "    reranked[\"abstract_snippets_mistral\"] = [\n",
    "        x[1] for x in reranked[\"snippets_blablador_mistral\"]\n",
    "    ]\n",
    "\n",
    "    reranked[\"offset_title_mistral\"] = reranked.apply(\n",
    "        lambda x: get_offset(x[\"title_snippets_mistral\"], x[\"text\"]), axis=1\n",
    "    )\n",
    "    reranked[\"offset_abstract_mistral\"] = reranked.apply(\n",
    "        lambda x: get_offset(x[\"abstract_snippets_mistral\"], x[\"text\"]), axis=1\n",
    "    )\n",
    "\n",
    "    reranked.to_csv(f\"temp/snippets/mistral/{file}\", index=False)"
   ]
  },
  {
   "cell_type": "markdown",
   "metadata": {},
   "source": [
    "### Blablador Mistral API for answers (SKIP)\n"
   ]
  },
  {
   "cell_type": "code",
   "execution_count": 2,
   "metadata": {},
   "outputs": [
    {
     "name": "stderr",
     "output_type": "stream",
     "text": [
      "100%|██████████| 5/5 [00:01<00:00,  2.97it/s]\n"
     ]
    }
   ],
   "source": [
    "IN_DIR = \"temp/snippets/mistral/\"\n",
    "\n",
    "for file in tqdm(os.listdir(IN_DIR)):\n",
    "    if \"54e25eaaae9738404b000017\" in file:\n",
    "        reranked = pd.read_csv(os.path.join(IN_DIR, file))\n",
    "\n",
    "        reranked[\"answer_snippets_exact_mistral\"] = [\n",
    "            response_exact_answer_mistral(\n",
    "                reranked[\"question\"].tolist()[0],\n",
    "                reranked[\"questiontype\"].tolist()[0],\n",
    "                \"\".join(\n",
    "                    reranked[\"abstract_snippets_mistral\"].tolist()\n",
    "                    + reranked[\"title_snippets_mistral\"]\n",
    "                ),\n",
    "                model=\"Mistral-7B-Instruct-v0.2\",\n",
    "            )\n",
    "        ] * len(reranked)\n",
    "\n",
    "        reranked[\"answer_snippets_ideal_mistral\"] = [\n",
    "            response_ideal_answer_mistral(\n",
    "                reranked[\"question\"].tolist()[0],\n",
    "                reranked[\"questiontype\"].tolist()[0],\n",
    "                \"\".join(\n",
    "                    flat_list(reranked[\"abstract_snippets_mistral\"].tolist())\n",
    "                    + flat_list(reranked[\"title_snippets_mistral\"])\n",
    "                ),\n",
    "                model=\"Mistral-7B-Instruct-v0.2\",\n",
    "            )\n",
    "        ] * len(reranked)\n",
    "\n",
    "#"
   ]
  },
  {
   "cell_type": "code",
   "execution_count": 4,
   "metadata": {},
   "outputs": [],
   "source": [
    "# reranked"
   ]
  },
  {
   "cell_type": "code",
   "execution_count": 6,
   "metadata": {},
   "outputs": [],
   "source": [
    "# reranked[\"answer_abstracts_exact\"] = [\n",
    "#     response_exact_answer(\n",
    "#         question.body,\n",
    "#         question.type,\n",
    "#         \" \".join(reranked[\"text\"].tolist()[:ABSTRACTS_FOR_ANSWER]),\n",
    "#     )\n",
    "# ] * len(reranked)\n",
    "# reranked[\"answer_abstracts_ideal\"] = [\n",
    "#     response_ideal_answer(\n",
    "#         question.body,\n",
    "#         question.type,\n",
    "#         \" \".join(reranked[\"text\"].tolist()[:ABSTRACTS_FOR_ANSWER]),\n",
    "#     )\n",
    "# ] * len(reranked)\n",
    "# reranked[\"answer_snippets_exact\"] = [\n",
    "#     response_exact_answer(\n",
    "#         question.body,\n",
    "#         question.type,\n",
    "#         \" \".join(\n",
    "#             flat_list(reranked[\"abstract_snippets\"].tolist())\n",
    "#             + flat_list(reranked[\"title_snippets\"])\n",
    "#         ),\n",
    "#     )\n",
    "# ] * len(reranked)\n",
    "# reranked[\"answer_snippets_ideal\"] = [\n",
    "#     response_ideal_answer(\n",
    "#         question.body,\n",
    "#         question.type,\n",
    "#         \" \".join(\n",
    "#             flat_list(reranked[\"abstract_snippets\"].tolist())\n",
    "#             + flat_list(reranked[\"title_snippets\"])\n",
    "#         ),\n",
    "#     )\n",
    "# ] * len(reranked)"
   ]
  }
 ],
 "metadata": {
  "kernelspec": {
   "display_name": "venv",
   "language": "python",
   "name": "python3"
  },
  "language_info": {
   "codemirror_mode": {
    "name": "ipython",
    "version": 3
   },
   "file_extension": ".py",
   "mimetype": "text/x-python",
   "name": "python",
   "nbconvert_exporter": "python",
   "pygments_lexer": "ipython3",
   "version": "3.10.12"
  }
 },
 "nbformat": 4,
 "nbformat_minor": 2
}
