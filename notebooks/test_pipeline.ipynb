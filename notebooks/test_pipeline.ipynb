{
 "cells": [
  {
   "cell_type": "code",
   "execution_count": 1,
   "metadata": {},
   "outputs": [],
   "source": [
    "import json\n",
    "import pandas as pd\n",
    "from tqdm import tqdm\n",
    "from mibi.modules import DocumentsModule, Question\n",
    "from test_utils import (\n",
    "    get_snippets,\n",
    "    PubMedApiRetrieve,\n",
    "    rerank_biencoder,\n",
    "    rerank_crossencoder,\n",
    "    get_snippets,\n",
    "    get_offset,\n",
    "    response_exact_answer,\n",
    "    response_ideal_answer,\n",
    "    flat_list,\n",
    "    get_snippets_blablador,\n",
    ")"
   ]
  },
  {
   "cell_type": "code",
   "execution_count": 2,
   "metadata": {},
   "outputs": [
    {
     "name": "stdout",
     "output_type": "stream",
     "text": [
      "dict_keys(['body', 'documents', 'ideal_answer', 'concepts', 'type', 'id', 'snippets'])\n"
     ]
    }
   ],
   "source": [
    "TEST_FILE = \"../../data/bioasq-data/training12b_new.json\"\n",
    "\n",
    "with open(TEST_FILE, \"r\") as f:\n",
    "    data = json.load(f)\n",
    "\n",
    "data = data[\"questions\"][:5]  # for the test purpose, take one instance\n",
    "print(data[0].keys())"
   ]
  },
  {
   "cell_type": "code",
   "execution_count": 3,
   "metadata": {},
   "outputs": [],
   "source": [
    "RETRIEVE_TOP_K = 50\n",
    "RERANK_TOP_K = 10\n",
    "ABSTRACTS_FOR_ANSWER = 3"
   ]
  },
  {
   "cell_type": "code",
   "execution_count": 4,
   "metadata": {},
   "outputs": [
    {
     "name": "stderr",
     "output_type": "stream",
     "text": [
      "  0%|          | 0/5 [00:00<?, ?it/s]"
     ]
    },
    {
     "name": "stdout",
     "output_type": "stream",
     "text": [
      "Is Hirschsprung disease a mendelian or a multifactorial disorder?\n"
     ]
    },
    {
     "data": {
      "application/vnd.jupyter.widget-view+json": {
       "model_id": "b9cac38214b540a989fd6a4538f911c1",
       "version_major": 2,
       "version_minor": 0
      },
      "text/plain": [
       "config.json:   0%|          | 0.00/612 [00:00<?, ?B/s]"
      ]
     },
     "metadata": {},
     "output_type": "display_data"
    },
    {
     "data": {
      "application/vnd.jupyter.widget-view+json": {
       "model_id": "a4a0ce47ed684c59bdac2bf730c7dc14",
       "version_major": 2,
       "version_minor": 0
      },
      "text/plain": [
       "pytorch_model.bin:   0%|          | 0.00/90.9M [00:00<?, ?B/s]"
      ]
     },
     "metadata": {},
     "output_type": "display_data"
    },
    {
     "name": "stderr",
     "output_type": "stream",
     "text": [
      "Some weights of BertForSequenceClassification were not initialized from the model checkpoint at sentence-transformers/all-MiniLM-L6-v2 and are newly initialized: ['classifier.bias', 'classifier.weight']\n",
      "You should probably TRAIN this model on a down-stream task to be able to use it for predictions and inference.\n"
     ]
    },
    {
     "data": {
      "application/vnd.jupyter.widget-view+json": {
       "model_id": "c97c64c3a18c4a1bbba6b2d03e7fd8cd",
       "version_major": 2,
       "version_minor": 0
      },
      "text/plain": [
       "tokenizer_config.json:   0%|          | 0.00/350 [00:00<?, ?B/s]"
      ]
     },
     "metadata": {},
     "output_type": "display_data"
    },
    {
     "data": {
      "application/vnd.jupyter.widget-view+json": {
       "model_id": "9ad08c1ecc9049a09bca28dfd22b8dd6",
       "version_major": 2,
       "version_minor": 0
      },
      "text/plain": [
       "vocab.txt:   0%|          | 0.00/232k [00:00<?, ?B/s]"
      ]
     },
     "metadata": {},
     "output_type": "display_data"
    },
    {
     "data": {
      "application/vnd.jupyter.widget-view+json": {
       "model_id": "d02a9b8b365c4122b1311352281fe6d9",
       "version_major": 2,
       "version_minor": 0
      },
      "text/plain": [
       "tokenizer.json:   0%|          | 0.00/466k [00:00<?, ?B/s]"
      ]
     },
     "metadata": {},
     "output_type": "display_data"
    },
    {
     "data": {
      "application/vnd.jupyter.widget-view+json": {
       "model_id": "81c09a89347a4c26821e14cf1967c3db",
       "version_major": 2,
       "version_minor": 0
      },
      "text/plain": [
       "special_tokens_map.json:   0%|          | 0.00/112 [00:00<?, ?B/s]"
      ]
     },
     "metadata": {},
     "output_type": "display_data"
    },
    {
     "name": "stderr",
     "output_type": "stream",
     "text": [
      "/home/bondarenko/laptop/Leipzig/project/mibi-bioasq/venv/lib/python3.10/site-packages/torch/cuda/__init__.py:628: UserWarning: Can't initialize NVML\n",
      "  warnings.warn(\"Can't initialize NVML\")\n",
      " 20%|██        | 1/5 [00:21<01:26, 21.69s/it]"
     ]
    },
    {
     "name": "stdout",
     "output_type": "stream",
     "text": [
      "List signaling molecules (ligands) that interact with the receptor EGFR?\n"
     ]
    },
    {
     "name": "stderr",
     "output_type": "stream",
     "text": [
      "Some weights of BertForSequenceClassification were not initialized from the model checkpoint at sentence-transformers/all-MiniLM-L6-v2 and are newly initialized: ['classifier.bias', 'classifier.weight']\n",
      "You should probably TRAIN this model on a down-stream task to be able to use it for predictions and inference.\n",
      " 40%|████      | 2/5 [00:24<00:32, 10.71s/it]"
     ]
    },
    {
     "name": "stdout",
     "output_type": "stream",
     "text": [
      "Is the protein Papilin secreted?\n"
     ]
    },
    {
     "name": "stderr",
     "output_type": "stream",
     "text": [
      "Some weights of BertForSequenceClassification were not initialized from the model checkpoint at sentence-transformers/all-MiniLM-L6-v2 and are newly initialized: ['classifier.bias', 'classifier.weight']\n",
      "You should probably TRAIN this model on a down-stream task to be able to use it for predictions and inference.\n",
      " 60%|██████    | 3/5 [00:27<00:14,  7.19s/it]"
     ]
    },
    {
     "name": "stdout",
     "output_type": "stream",
     "text": [
      "Are long non coding RNAs spliced?\n"
     ]
    },
    {
     "name": "stderr",
     "output_type": "stream",
     "text": [
      "Some weights of BertForSequenceClassification were not initialized from the model checkpoint at sentence-transformers/all-MiniLM-L6-v2 and are newly initialized: ['classifier.bias', 'classifier.weight']\n",
      "You should probably TRAIN this model on a down-stream task to be able to use it for predictions and inference.\n",
      " 80%|████████  | 4/5 [00:32<00:06,  6.35s/it]"
     ]
    },
    {
     "name": "stdout",
     "output_type": "stream",
     "text": [
      "Is RANKL secreted from the cells?\n"
     ]
    },
    {
     "name": "stderr",
     "output_type": "stream",
     "text": [
      "Some weights of BertForSequenceClassification were not initialized from the model checkpoint at sentence-transformers/all-MiniLM-L6-v2 and are newly initialized: ['classifier.bias', 'classifier.weight']\n",
      "You should probably TRAIN this model on a down-stream task to be able to use it for predictions and inference.\n",
      "100%|██████████| 5/5 [00:37<00:00,  7.49s/it]\n"
     ]
    }
   ],
   "source": [
    "N = 0\n",
    "questions = [\n",
    "    Question(\n",
    "        id=q[\"id\"],\n",
    "        type=q[\"type\"],\n",
    "        body=q[\"body\"],\n",
    "    )\n",
    "    for q in data\n",
    "]\n",
    "for question in tqdm(questions):\n",
    "    N += 1\n",
    "    retrieve_abstracts = PubMedApiRetrieve(verbose=True, num_results=RETRIEVE_TOP_K)\n",
    "    retrieved = retrieve_abstracts.transform([question])\n",
    "    retrieved[\"cos_sim\"] = rerank_crossencoder(question, retrieved)\n",
    "    reranked = retrieved.sort_values(\"cos_sim\", ascending=False)[:RERANK_TOP_K]\n",
    "    # reranked[\"snippets_blablador_gpt\"] = reranked.apply(\n",
    "    #     lambda x: get_snippets_blablador(\n",
    "    #         question.body, x[\"title\"], x[\"text\"], model=\"gpt-3.5-turbo\"\n",
    "    #     ),\n",
    "    #     axis=1,\n",
    "    # )\n",
    "    # reranked[\"snippets_blablador_mistral\"] = reranked.apply(\n",
    "    #     lambda x: get_snippets_blablador(\n",
    "    #         question.body, x[\"title\"], x[\"text\"], model=\"Mistral-7B-Instruct-v0.2\"\n",
    "    #     ),\n",
    "    #     axis=1,\n",
    "    # )\n",
    "    # reranked[\"title_snippets_gpt\"] = [x[0] for x in reranked[\"snippets_blablador_gpt\"]]\n",
    "    # reranked[\"abstract_snippets_gpt\"] = [\n",
    "    #     x[1] for x in reranked[\"snippets_blablador_gpt\"]\n",
    "    # ]\n",
    "    # reranked[\"title_snippets_mistral\"] = [\n",
    "    #     x[0] for x in reranked[\"snippets_blablador_mistral\"]\n",
    "    # ]\n",
    "    # reranked[\"abstract_snippets_mistral\"] = [\n",
    "    #     x[1] for x in reranked[\"snippets_blablador_mistral\"]\n",
    "    # ]\n",
    "\n",
    "    # reranked[\"offset_title_gpt\"] = reranked.apply(\n",
    "    #     lambda x: get_offset(x[\"title_snippets_gpt\"], x[\"text\"]), axis=1\n",
    "    # )\n",
    "    # reranked[\"offset_abstract_gpt\"] = reranked.apply(\n",
    "    #     lambda x: get_offset(x[\"abstract_snippets_gpt\"], x[\"text\"]), axis=1\n",
    "    # )\n",
    "\n",
    "    # reranked[\"offset_title_mistral\"] = reranked.apply(\n",
    "    #     lambda x: get_offset(x[\"title_snippets_mistral\"], x[\"text\"]), axis=1\n",
    "    # )\n",
    "    # reranked[\"offset_abstract_mistral\"] = reranked.apply(\n",
    "    #     lambda x: get_offset(x[\"abstract_snippets_mistral\"], x[\"text\"]), axis=1\n",
    "    # )\n",
    "\n",
    "    # reranked[\"snippets\"] = reranked.apply(\n",
    "    #     lambda x: get_snippets(question.body, x[\"title\"], x[\"text\"]), axis=1\n",
    "    # )\n",
    "    # reranked[\"title_snippets\"] = [x[0] for x in reranked[\"snippets\"]]\n",
    "    # reranked[\"abstract_snippets\"] = [x[1] for x in reranked[\"snippets\"]]\n",
    "    # reranked[\"offset_title\"] = reranked.apply(\n",
    "    #     lambda x: get_offset(x[\"title_snippets\"], x[\"text\"]), axis=1\n",
    "    # )\n",
    "    # reranked[\"offset_abstract\"] = reranked.apply(\n",
    "    #     lambda x: get_offset(x[\"abstract_snippets\"], x[\"text\"]), axis=1\n",
    "    # )\n",
    "\n",
    "    # reranked[\"answer_abstracts_exact\"] = [\n",
    "    #     response_exact_answer(\n",
    "    #         question.body,\n",
    "    #         question.type,\n",
    "    #         \" \".join(reranked[\"text\"].tolist()[:ABSTRACTS_FOR_ANSWER]),\n",
    "    #     )\n",
    "    # ] * len(reranked)\n",
    "    # reranked[\"answer_abstracts_ideal\"] = [\n",
    "    #     response_ideal_answer(\n",
    "    #         question.body,\n",
    "    #         question.type,\n",
    "    #         \" \".join(reranked[\"text\"].tolist()[:ABSTRACTS_FOR_ANSWER]),\n",
    "    #     )\n",
    "    # ] * len(reranked)\n",
    "    # reranked[\"answer_snippets_exact\"] = [\n",
    "    #     response_exact_answer(\n",
    "    #         question.body,\n",
    "    #         question.type,\n",
    "    #         \" \".join(\n",
    "    #             flat_list(reranked[\"abstract_snippets\"].tolist())\n",
    "    #             + flat_list(reranked[\"title_snippets\"])\n",
    "    #         ),\n",
    "    #     )\n",
    "    # ] * len(reranked)\n",
    "    # reranked[\"answer_snippets_ideal\"] = [\n",
    "    #     response_ideal_answer(\n",
    "    #         question.body,\n",
    "    #         question.type,\n",
    "    #         \" \".join(\n",
    "    #             flat_list(reranked[\"abstract_snippets\"].tolist())\n",
    "    #             + flat_list(reranked[\"title_snippets\"])\n",
    "    #         ),\n",
    "    #     )\n",
    "    # ] * len(reranked)\n",
    "\n",
    "    reranked.to_csv(f\"reranked{N}.csv\", index=False)"
   ]
  },
  {
   "cell_type": "code",
   "execution_count": 5,
   "metadata": {},
   "outputs": [
    {
     "data": {
      "text/plain": [
       "('summary',\n",
       " 'Is Hirschsprung disease a mendelian or a multifactorial disorder?')"
      ]
     },
     "execution_count": 5,
     "metadata": {},
     "output_type": "execute_result"
    }
   ],
   "source": [
    "questions[0].type, questions[0].body"
   ]
  },
  {
   "cell_type": "code",
   "execution_count": 16,
   "metadata": {},
   "outputs": [
    {
     "data": {
      "text/html": [
       "<div>\n",
       "<style scoped>\n",
       "    .dataframe tbody tr th:only-of-type {\n",
       "        vertical-align: middle;\n",
       "    }\n",
       "\n",
       "    .dataframe tbody tr th {\n",
       "        vertical-align: top;\n",
       "    }\n",
       "\n",
       "    .dataframe thead th {\n",
       "        text-align: right;\n",
       "    }\n",
       "</style>\n",
       "<table border=\"1\" class=\"dataframe\">\n",
       "  <thead>\n",
       "    <tr style=\"text-align: right;\">\n",
       "      <th></th>\n",
       "      <th>docno</th>\n",
       "      <th>score</th>\n",
       "      <th>rank</th>\n",
       "      <th>title</th>\n",
       "      <th>text</th>\n",
       "      <th>url</th>\n",
       "      <th>cos_sim</th>\n",
       "      <th>snippets_blablador_gpt</th>\n",
       "    </tr>\n",
       "  </thead>\n",
       "  <tbody>\n",
       "    <tr>\n",
       "      <th>55</th>\n",
       "      <td>38218304</td>\n",
       "      <td>0</td>\n",
       "      <td>56</td>\n",
       "      <td>Runx2 deletion in hypertrophic chondrocytes im...</td>\n",
       "      <td>Deletion of Runx2 gene in proliferating chondr...</td>\n",
       "      <td>https://pubmed.ncbi.nlm.nih.gov/38218304/</td>\n",
       "      <td>0.270721</td>\n",
       "      <td>([], [])</td>\n",
       "    </tr>\n",
       "    <tr>\n",
       "      <th>43</th>\n",
       "      <td>38266238</td>\n",
       "      <td>0</td>\n",
       "      <td>44</td>\n",
       "      <td>Myeloid zinc finger 1 knockdown promotes osteo...</td>\n",
       "      <td>The overactivation of the osteoclasts is a cru...</td>\n",
       "      <td>https://pubmed.ncbi.nlm.nih.gov/38266238/</td>\n",
       "      <td>0.234311</td>\n",
       "      <td>([], [])</td>\n",
       "    </tr>\n",
       "    <tr>\n",
       "      <th>25</th>\n",
       "      <td>38365111</td>\n",
       "      <td>0</td>\n",
       "      <td>26</td>\n",
       "      <td>FTO regulates osteoclast development by modula...</td>\n",
       "      <td>Periodontitis is an oral inflammatory disease ...</td>\n",
       "      <td>https://pubmed.ncbi.nlm.nih.gov/38365111/</td>\n",
       "      <td>0.232768</td>\n",
       "      <td>([], [])</td>\n",
       "    </tr>\n",
       "    <tr>\n",
       "      <th>10</th>\n",
       "      <td>38457001</td>\n",
       "      <td>0</td>\n",
       "      <td>11</td>\n",
       "      <td>Osteocytes and Paget's Disease of Bone.</td>\n",
       "      <td>To describe the contributions of osteocytes to...</td>\n",
       "      <td>https://pubmed.ncbi.nlm.nih.gov/38457001/</td>\n",
       "      <td>0.226861</td>\n",
       "      <td>([], [])</td>\n",
       "    </tr>\n",
       "    <tr>\n",
       "      <th>18</th>\n",
       "      <td>38396794</td>\n",
       "      <td>0</td>\n",
       "      <td>19</td>\n",
       "      <td>The Role of Rosavin in the Pathophysiology of ...</td>\n",
       "      <td>Rosavin, a phenylpropanoid in</td>\n",
       "      <td>https://pubmed.ncbi.nlm.nih.gov/38396794/</td>\n",
       "      <td>0.218131</td>\n",
       "      <td>([], [])</td>\n",
       "    </tr>\n",
       "    <tr>\n",
       "      <th>30</th>\n",
       "      <td>38331308</td>\n",
       "      <td>0</td>\n",
       "      <td>31</td>\n",
       "      <td>A pathogenic role for brain-derived neurotroph...</td>\n",
       "      <td>Brain derived neurotrophic factor (BDNF) is a ...</td>\n",
       "      <td>https://pubmed.ncbi.nlm.nih.gov/38331308/</td>\n",
       "      <td>0.209336</td>\n",
       "      <td>([], [])</td>\n",
       "    </tr>\n",
       "    <tr>\n",
       "      <th>91</th>\n",
       "      <td>38048727</td>\n",
       "      <td>0</td>\n",
       "      <td>92</td>\n",
       "      <td>Dysfunction of poly (ADP-ribose) glycohydrolas...</td>\n",
       "      <td>Poly (ADP-ribose) glycohydrolase (PARG) is an ...</td>\n",
       "      <td>https://pubmed.ncbi.nlm.nih.gov/38048727/</td>\n",
       "      <td>0.196737</td>\n",
       "      <td>([], [])</td>\n",
       "    </tr>\n",
       "    <tr>\n",
       "      <th>22</th>\n",
       "      <td>38378678</td>\n",
       "      <td>0</td>\n",
       "      <td>23</td>\n",
       "      <td>RANKL inhibition reduces lesional cellularity ...</td>\n",
       "      <td>Fibrous dysplasia (FD) is a rare, disabling sk...</td>\n",
       "      <td>https://pubmed.ncbi.nlm.nih.gov/38378678/</td>\n",
       "      <td>0.193740</td>\n",
       "      <td>([], [])</td>\n",
       "    </tr>\n",
       "    <tr>\n",
       "      <th>98</th>\n",
       "      <td>38003715</td>\n",
       "      <td>0</td>\n",
       "      <td>99</td>\n",
       "      <td>Ethanol Extract of Radix Asteris Suppresses Os...</td>\n",
       "      <td>Radix Asteris, the root of</td>\n",
       "      <td>https://pubmed.ncbi.nlm.nih.gov/38003715/</td>\n",
       "      <td>0.184388</td>\n",
       "      <td>([], [])</td>\n",
       "    </tr>\n",
       "    <tr>\n",
       "      <th>84</th>\n",
       "      <td>38068903</td>\n",
       "      <td>0</td>\n",
       "      <td>85</td>\n",
       "      <td>Impact of Mechanical Strain and Nicotinamide o...</td>\n",
       "      <td>Cleidocranial dysplasia (CCD) is a rare geneti...</td>\n",
       "      <td>https://pubmed.ncbi.nlm.nih.gov/38068903/</td>\n",
       "      <td>0.162072</td>\n",
       "      <td>([], [])</td>\n",
       "    </tr>\n",
       "  </tbody>\n",
       "</table>\n",
       "</div>"
      ],
      "text/plain": [
       "       docno  score  rank                                              title  \\\n",
       "55  38218304      0    56  Runx2 deletion in hypertrophic chondrocytes im...   \n",
       "43  38266238      0    44  Myeloid zinc finger 1 knockdown promotes osteo...   \n",
       "25  38365111      0    26  FTO regulates osteoclast development by modula...   \n",
       "10  38457001      0    11            Osteocytes and Paget's Disease of Bone.   \n",
       "18  38396794      0    19  The Role of Rosavin in the Pathophysiology of ...   \n",
       "30  38331308      0    31  A pathogenic role for brain-derived neurotroph...   \n",
       "91  38048727      0    92  Dysfunction of poly (ADP-ribose) glycohydrolas...   \n",
       "22  38378678      0    23  RANKL inhibition reduces lesional cellularity ...   \n",
       "98  38003715      0    99  Ethanol Extract of Radix Asteris Suppresses Os...   \n",
       "84  38068903      0    85  Impact of Mechanical Strain and Nicotinamide o...   \n",
       "\n",
       "                                                 text  \\\n",
       "55  Deletion of Runx2 gene in proliferating chondr...   \n",
       "43  The overactivation of the osteoclasts is a cru...   \n",
       "25  Periodontitis is an oral inflammatory disease ...   \n",
       "10  To describe the contributions of osteocytes to...   \n",
       "18                      Rosavin, a phenylpropanoid in   \n",
       "30  Brain derived neurotrophic factor (BDNF) is a ...   \n",
       "91  Poly (ADP-ribose) glycohydrolase (PARG) is an ...   \n",
       "22  Fibrous dysplasia (FD) is a rare, disabling sk...   \n",
       "98                         Radix Asteris, the root of   \n",
       "84  Cleidocranial dysplasia (CCD) is a rare geneti...   \n",
       "\n",
       "                                          url   cos_sim snippets_blablador_gpt  \n",
       "55  https://pubmed.ncbi.nlm.nih.gov/38218304/  0.270721               ([], [])  \n",
       "43  https://pubmed.ncbi.nlm.nih.gov/38266238/  0.234311               ([], [])  \n",
       "25  https://pubmed.ncbi.nlm.nih.gov/38365111/  0.232768               ([], [])  \n",
       "10  https://pubmed.ncbi.nlm.nih.gov/38457001/  0.226861               ([], [])  \n",
       "18  https://pubmed.ncbi.nlm.nih.gov/38396794/  0.218131               ([], [])  \n",
       "30  https://pubmed.ncbi.nlm.nih.gov/38331308/  0.209336               ([], [])  \n",
       "91  https://pubmed.ncbi.nlm.nih.gov/38048727/  0.196737               ([], [])  \n",
       "22  https://pubmed.ncbi.nlm.nih.gov/38378678/  0.193740               ([], [])  \n",
       "98  https://pubmed.ncbi.nlm.nih.gov/38003715/  0.184388               ([], [])  \n",
       "84  https://pubmed.ncbi.nlm.nih.gov/38068903/  0.162072               ([], [])  "
      ]
     },
     "execution_count": 16,
     "metadata": {},
     "output_type": "execute_result"
    }
   ],
   "source": [
    "reranked.head(15)"
   ]
  },
  {
   "cell_type": "code",
   "execution_count": 9,
   "metadata": {},
   "outputs": [
    {
     "name": "stdout",
     "output_type": "stream",
     "text": [
      "Secreted ADAMTS-like proteins as regulators of connective tissue function.\n",
      "The extracellular matrix (ECM) determines functional properties of connective tissues through structural components, such as collagens, elastic fibers, or proteoglycans. The ECM also instructs cell behavior through regulatory proteins, including proteases, growth factors, and matricellular proteins, which can be soluble or tethered to ECM scaffolds. The secreted a disintegrin and metalloproteinase with thrombospondin type 1 repeats/motifs-like (ADAMTSL) proteins constitute a family of regulatory ECM proteins that are related to ADAMTS proteases but lack their protease domains. In mammals, the ADAMTSL protein family comprises seven members, ADAMTSL1-6 and papilin. ADAMTSL orthologs are also present in the worm,\n",
      "([], ['ADAMTSL orthologs are also present in the worm,', 'ADAMTSL proteins constitute a family of regulatory ECM proteins that are related to ADAMTS proteases but lack their protease domains.'])\n",
      "(['Secreted ADAMTS-like proteins as regulators of connective tissue function.'], ['The secreted a disintegrin and metalloproteinase with thrombospondin type 1 repeats/motifs-like (ADAMTSL) proteins constitute a family of regulatory ECM proteins that are related to ADAMTS proteases but lack their protease domains.', 'In mammals, the ADAMTSL protein family comprises seven members, ADAMTSL1-6 and papilin.', 'ADAMTSL orthologs are also present in the worm,'])\n"
     ]
    }
   ],
   "source": [
    "print(reranked.title.tolist()[0])\n",
    "print(reranked.text.tolist()[0])\n",
    "print(reranked.snippets_blablador_gpt.tolist()[0])\n",
    "print(reranked.snippets_blablador_mistral.tolist()[0])"
   ]
  },
  {
   "cell_type": "code",
   "execution_count": 31,
   "metadata": {},
   "outputs": [
    {
     "data": {
      "text/plain": [
       "['The differentially expressed genes were mainly associated with catalytic activity, oxidoreductase activity and transmembrane transporter activity, which significantly contributed to extracellular matrix-receptor interaction, fatty acids biosynthesis as well as glycine, serine, and threonine metabolism.']"
      ]
     },
     "execution_count": 31,
     "metadata": {},
     "output_type": "execute_result"
    }
   ],
   "source": [
    "reranked.abstract_snippets.tolist()[4]"
   ]
  },
  {
   "cell_type": "code",
   "execution_count": 2,
   "metadata": {},
   "outputs": [],
   "source": [
    "question = \"Please list 2 human diseases caused by a coronavirus.\"\n",
    "title = \"Host Factors in Coronavirus Replication\"\n",
    "abstract = \"Coronaviruses are pathogens with a serious impact on human and animal health. They mostly cause enteric or respiratory disease, which can be severe and life threatening, e.g., in the case of the zoonotic coronaviruses causing severe acute respiratory syndrome (SARS) and Middle East Respiratory Syndrome (MERS) in humans. Despite the economic and societal impact of such coronavirus infections, and the likelihood of future outbreaks of additional pathogenic coronaviruses, our options to prevent or treat coronavirus infections remain very limited. This highlights the importance of advancing our knowledge on the replication of these viruses and their interactions with the host. Compared to other +RNA viruses, coronaviruses have an exceptionally large genome and employ a complex genome expression strategy. Next to a role in basic virus replication or virus assembly, many of the coronavirus proteins expressed in the infected cell contribute to the coronavirus-host interplay. For example, by interacting with the host cell to create an optimal environment for coronavirus replication, by altering host gene expression or by counteracting the host's antiviral defenses. These coronavirus-host interactions are key to viral pathogenesis and will ultimately determine the outcome of infection. Due to the complexity of the coronavirus proteome and replication cycle, our knowledge of host factors involved in coronavirus replication is still in an early stage compared to what is known for some other +RNA viruses. This review summarizes our current understanding of coronavirus-host interactions at the level of the infected cell, with special attention for the assembly and function of the viral RNA-synthesising machinery and the evasion of cellular innate immune responses.\""
   ]
  },
  {
   "cell_type": "code",
   "execution_count": 4,
   "metadata": {},
   "outputs": [
    {
     "data": {
      "text/plain": [
       "(6, 11)"
      ]
     },
     "execution_count": 4,
     "metadata": {},
     "output_type": "execute_result"
    }
   ],
   "source": [
    "import re\n",
    "\n",
    "a = \"Lorem ipsum dolor sit amet\"\n",
    "re.search(\"ipsum\", a).span()\n",
    "(6, 11)"
   ]
  }
 ],
 "metadata": {
  "kernelspec": {
   "display_name": "venv",
   "language": "python",
   "name": "python3"
  },
  "language_info": {
   "codemirror_mode": {
    "name": "ipython",
    "version": 3
   },
   "file_extension": ".py",
   "mimetype": "text/x-python",
   "name": "python",
   "nbconvert_exporter": "python",
   "pygments_lexer": "ipython3",
   "version": "3.10.12"
  }
 },
 "nbformat": 4,
 "nbformat_minor": 2
}
