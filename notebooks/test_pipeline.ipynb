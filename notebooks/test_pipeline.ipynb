{
 "cells": [
  {
   "cell_type": "code",
   "execution_count": 1,
   "metadata": {},
   "outputs": [],
   "source": [
    "import json\n",
    "import os\n",
    "import pandas as pd\n",
    "from tqdm import tqdm\n",
    "from mibi.modules import DocumentsModule, Question\n",
    "from test_utils import (\n",
    "    get_snippets,\n",
    "    PubMedApiRetrieve,\n",
    "    rerank_biencoder,\n",
    "    rerank_crossencoder,\n",
    "    get_snippets,\n",
    "    get_offset,\n",
    "    response_exact_answer,\n",
    "    response_ideal_answer,\n",
    "    flat_list,\n",
    "    get_snippets_blablador,\n",
    "    retrieve_bm25,\n",
    ")"
   ]
  },
  {
   "cell_type": "code",
   "execution_count": 22,
   "metadata": {},
   "outputs": [
    {
     "name": "stdout",
     "output_type": "stream",
     "text": [
      "{'body': 'Is the protein Papilin secreted?', 'documents': ['http://www.ncbi.nlm.nih.gov/pubmed/3320045', 'http://www.ncbi.nlm.nih.gov/pubmed/7515725', 'http://www.ncbi.nlm.nih.gov/pubmed/20805556', 'http://www.ncbi.nlm.nih.gov/pubmed/19297413', 'http://www.ncbi.nlm.nih.gov/pubmed/19724244', 'http://www.ncbi.nlm.nih.gov/pubmed/15094122', 'http://www.ncbi.nlm.nih.gov/pubmed/12666201', 'http://www.ncbi.nlm.nih.gov/pubmed/21784067', 'http://www.ncbi.nlm.nih.gov/pubmed/11076767', 'http://www.ncbi.nlm.nih.gov/pubmed/15094110'], 'ideal_answer': ['Yes,  papilin is a secreted protein'], 'exact_answer': 'yes', 'type': 'yesno', 'id': '54e25eaaae9738404b000017', 'snippets': [{'offsetInBeginSection': 1085, 'offsetInEndSection': 1307, 'text': 'Using expression analysis, we identify three genes that are transcriptionally regulated by HLH-2: the protocadherin cdh-3, and two genes encoding secreted extracellular matrix proteins, mig-6/papilin and him-4/hemicentin. ', 'beginSection': 'abstract', 'document': 'http://www.ncbi.nlm.nih.gov/pubmed/21784067', 'endSection': 'abstract'}, {'offsetInBeginSection': 226, 'offsetInEndSection': 458, 'text': 'We found that mig-6 encodes long (MIG-6L) and short (MIG-6S) isoforms of the extracellular matrix protein papilin, each required for distinct aspects of DTC migration. Both MIG-6 isoforms have a predicted N-terminal papilin cassette', 'beginSection': 'abstract', 'document': 'http://www.ncbi.nlm.nih.gov/pubmed/19297413', 'endSection': 'abstract'}, {'offsetInBeginSection': 1, 'offsetInEndSection': 111, 'text': 'apilins are homologous, secreted extracellular matrix proteins which share a common order of protein domains. ', 'beginSection': 'abstract', 'document': 'http://www.ncbi.nlm.nih.gov/pubmed/15094122', 'endSection': 'abstract'}, {'offsetInBeginSection': 0, 'offsetInEndSection': 404, 'text': 'The TSR superfamily is a diverse family of extracellular matrix and transmembrane proteins, many of which have functions related to regulating matrix organization, cell-cell interactions and cell guidance. This review samples some of the contemporary literature regarding TSR superfamily members (e.g. F-spondin, UNC-5, ADAMTS, papilin, and TRAP) where specific functions are assigned to the TSR domains.', 'beginSection': 'abstract', 'document': 'http://www.ncbi.nlm.nih.gov/pubmed/15094110', 'endSection': 'abstract'}, {'offsetInBeginSection': 0, 'offsetInEndSection': 43, 'text': 'Papilins are extracellular matrix proteins ', 'beginSection': 'abstract', 'document': 'http://www.ncbi.nlm.nih.gov/pubmed/12666201', 'endSection': 'abstract'}, {'offsetInBeginSection': 0, 'offsetInEndSection': 48, 'text': 'Papilin is an extracellular matrix glycoprotein ', 'beginSection': 'abstract', 'document': 'http://www.ncbi.nlm.nih.gov/pubmed/11076767', 'endSection': 'abstract'}, {'offsetInBeginSection': 731, 'offsetInEndSection': 882, 'text': ' Collagen IV, laminin, glutactin, papilin, and other extracellular matrix proteins were made primarily by hemocytes and were secreted into the medium. ', 'beginSection': 'abstract', 'document': 'http://www.ncbi.nlm.nih.gov/pubmed/7515725', 'endSection': 'abstract'}, {'offsetInBeginSection': 0, 'offsetInEndSection': 101, 'text': 'A sulfated glycoprotein was isolated from the culture media of Drosophila Kc cells and named papilin.', 'beginSection': 'abstract', 'document': 'http://www.ncbi.nlm.nih.gov/pubmed/3320045', 'endSection': 'abstract'}]}\n"
     ]
    }
   ],
   "source": [
    "TEST_FILE = \"../../data/bioasq-data/training12b_new.json\"\n",
    "\n",
    "with open(TEST_FILE, \"r\") as f:\n",
    "    data = json.load(f)\n",
    "\n",
    "data = data[\"questions\"]\n",
    "for d in data:\n",
    "    if d[\"type\"] == \"yesno\":\n",
    "        print(d)\n",
    "        break"
   ]
  },
  {
   "cell_type": "code",
   "execution_count": 32,
   "metadata": {},
   "outputs": [
    {
     "name": "stdout",
     "output_type": "stream",
     "text": [
      "yesno\n",
      "54e25eaaae9738404b000017\n"
     ]
    }
   ],
   "source": [
    "for d in data[2:3]:\n",
    "    print(d[\"type\"])\n",
    "    print(d[\"id\"])"
   ]
  },
  {
   "cell_type": "code",
   "execution_count": 4,
   "metadata": {},
   "outputs": [
    {
     "name": "stdout",
     "output_type": "stream",
     "text": [
      "dict_keys(['body', 'documents', 'ideal_answer', 'concepts', 'type', 'id', 'snippets'])\n"
     ]
    }
   ],
   "source": [
    "TEST_FILE = \"../../data/bioasq-data/training12b_new.json\"\n",
    "\n",
    "with open(TEST_FILE, \"r\") as f:\n",
    "    data = json.load(f)\n",
    "\n",
    "data = data[\"questions\"][:5]  # for the test purpose, take one instance\n",
    "print(data[0].keys())"
   ]
  },
  {
   "cell_type": "code",
   "execution_count": 3,
   "metadata": {},
   "outputs": [],
   "source": [
    "RETRIEVE_TOP_K = 200\n",
    "RERANK_BM25 = 50\n",
    "RERANK_CROSS = 25\n",
    "RERANK_BI = 10"
   ]
  },
  {
   "cell_type": "code",
   "execution_count": 6,
   "metadata": {},
   "outputs": [
    {
     "name": "stderr",
     "output_type": "stream",
     "text": [
      "  0%|          | 0/5 [00:00<?, ?it/s]/home/bondarenko/laptop/Leipzig/project/mibi-bioasq/venv/lib/python3.10/site-packages/torch/cuda/__init__.py:628: UserWarning: Can't initialize NVML\n",
      "  warnings.warn(\"Can't initialize NVML\")\n",
      "100%|██████████| 5/5 [00:54<00:00, 10.90s/it]\n"
     ]
    }
   ],
   "source": [
    "questions = [\n",
    "    Question(\n",
    "        id=q[\"id\"],\n",
    "        type=q[\"type\"],\n",
    "        body=q[\"body\"],\n",
    "    )\n",
    "    for q in data\n",
    "]\n",
    "retrieve_abstracts = PubMedApiRetrieve(verbose=True, num_results=RETRIEVE_TOP_K)\n",
    "\n",
    "for question in tqdm(questions):\n",
    "    retrieved = retrieve_abstracts.transform([question])\n",
    "    retrieved[\"bm25\"] = retrieve_bm25(question, retrieved)\n",
    "    reranked = retrieved.sort_values(\"bm25\", ascending=False).head(RERANK_BM25)\n",
    "    # reranked.to_csv(f\"temp/reranked/bm25_{question.id}.csv\", index=False)\n",
    "\n",
    "    reranked[\"cos_sim\"] = rerank_crossencoder(question, reranked)\n",
    "    reranked = reranked.sort_values(\"cos_sim\", ascending=False).head(RERANK_CROSS)\n",
    "    reranked = reranked.drop(\"cos_sim\", axis=1)\n",
    "\n",
    "    reranked[\"cos_sim\"] = rerank_biencoder(question, reranked)\n",
    "    reranked = reranked.sort_values(\"cos_sim\", ascending=False).head(RERANK_BI)\n",
    "\n",
    "    reranked[\"question\"] = [question.body] * len(reranked)\n",
    "    reranked[\"questionno\"] = [question.id] * len(reranked)\n",
    "    reranked[\"questiontype\"] = [question.type] * len(reranked)\n",
    "\n",
    "    reranked.to_csv(f\"temp/reranked/{question.id}.csv\", index=False)\n",
    "    # retrieved.to_csv(f\"temp/reranked/retrieved_{question.id}.csv\", index=False)"
   ]
  },
  {
   "cell_type": "markdown",
   "metadata": {},
   "source": [
    "### OpenAI API for snippets\n"
   ]
  },
  {
   "cell_type": "code",
   "execution_count": 7,
   "metadata": {},
   "outputs": [
    {
     "name": "stderr",
     "output_type": "stream",
     "text": [
      "100%|██████████| 5/5 [01:38<00:00, 19.73s/it]\n"
     ]
    }
   ],
   "source": [
    "questions = []\n",
    "\n",
    "IN_DIR = \"temp/reranked/\"\n",
    "\n",
    "for file in tqdm(os.listdir(IN_DIR)):\n",
    "    reranked = pd.read_csv(os.path.join(IN_DIR, file))\n",
    "    reranked[\"snippets\"] = reranked.apply(\n",
    "        lambda x: get_snippets(x[\"question\"], x[\"title\"], x[\"text\"]), axis=1\n",
    "    )\n",
    "    reranked[\"title_snippets\"] = [x[0] for x in reranked[\"snippets\"]]\n",
    "    reranked[\"abstract_snippets\"] = [x[1] for x in reranked[\"snippets\"]]\n",
    "    reranked[\"offset_title\"] = reranked.apply(\n",
    "        lambda x: get_offset(x[\"title_snippets\"], x[\"text\"]), axis=1\n",
    "    )\n",
    "    reranked[\"offset_abstract\"] = reranked.apply(\n",
    "        lambda x: get_offset(x[\"abstract_snippets\"], x[\"text\"]), axis=1\n",
    "    )\n",
    "    reranked.to_csv(f\"temp/snippets/openai/{file}\", index=False)"
   ]
  },
  {
   "cell_type": "markdown",
   "metadata": {},
   "source": [
    "### OpenAI API for answers\n"
   ]
  },
  {
   "cell_type": "code",
   "execution_count": 2,
   "metadata": {},
   "outputs": [
    {
     "name": "stderr",
     "output_type": "stream",
     "text": [
      "100%|██████████| 5/5 [00:29<00:00,  5.89s/it]\n"
     ]
    }
   ],
   "source": [
    "IN_DIR = \"temp/snippets/openai/\"\n",
    "ABSTRACTS_FOR_ANSWER = 3\n",
    "\n",
    "for file in tqdm(os.listdir(IN_DIR)):\n",
    "    reranked = pd.read_csv(os.path.join(IN_DIR, file))\n",
    "    reranked[\"answer_abstracts_exact\"] = [\n",
    "        response_exact_answer(\n",
    "            reranked[\"question\"].tolist()[0],\n",
    "            reranked[\"questiontype\"].tolist()[0],\n",
    "            \" \".join(reranked[\"text\"].tolist()[:ABSTRACTS_FOR_ANSWER]),\n",
    "        )\n",
    "    ] * len(reranked)\n",
    "    reranked[\"answer_abstracts_ideal\"] = [\n",
    "        response_ideal_answer(\n",
    "            reranked[\"question\"].tolist()[0],\n",
    "            reranked[\"questiontype\"].tolist()[0],\n",
    "            \" \".join(reranked[\"text\"].tolist()[:ABSTRACTS_FOR_ANSWER]),\n",
    "        )\n",
    "    ] * len(reranked)\n",
    "    reranked[\"answer_snippets_exact\"] = [\n",
    "        response_exact_answer(\n",
    "            reranked[\"question\"].tolist()[0],\n",
    "            reranked[\"questiontype\"].tolist()[0],\n",
    "            \"\".join(\n",
    "                flat_list(reranked[\"abstract_snippets\"].tolist())\n",
    "                + flat_list(reranked[\"title_snippets\"])\n",
    "            ),\n",
    "        )\n",
    "    ] * len(reranked)\n",
    "    reranked[\"answer_snippets_ideal\"] = [\n",
    "        response_ideal_answer(\n",
    "            reranked[\"question\"].tolist()[0],\n",
    "            reranked[\"questiontype\"].tolist()[0],\n",
    "            \"\".join(\n",
    "                flat_list(reranked[\"abstract_snippets\"].tolist())\n",
    "                + flat_list(reranked[\"title_snippets\"])\n",
    "            ),\n",
    "        )\n",
    "    ] * len(reranked)\n",
    "    reranked.to_csv(f\"temp/answers/openai/{file}\", index=False)"
   ]
  },
  {
   "cell_type": "markdown",
   "metadata": {},
   "source": [
    "### Prepare submission\n"
   ]
  },
  {
   "cell_type": "code",
   "execution_count": 8,
   "metadata": {},
   "outputs": [
    {
     "name": "stderr",
     "output_type": "stream",
     "text": [
      "100%|██████████| 5/5 [00:00<00:00, 312.97it/s]\n"
     ]
    }
   ],
   "source": [
    "IN_DIR1 = \"temp/answers/openai/\"\n",
    "IN_DIR2 = \"temp/snippets/gpt\"\n",
    "IN_DIR3 = \"temp/snippets/mistral\"\n",
    "\n",
    "for file in tqdm(os.listdir(IN_DIR1)):\n",
    "    reranked1 = pd.read_csv(os.path.join(IN_DIR1, file))\n",
    "    reranked2 = pd.read_csv(os.path.join(IN_DIR2, file))\n",
    "    reranked3 = pd.read_csv(os.path.join(IN_DIR3, file))\n",
    "    rearnked_merged = pd.concat([reranked1, reranked2, reranked3], axis=1)\n",
    "\n",
    "    # if reranked[\"questiontype\"].tolist()[0] == \"list\":\n",
    "    #     break"
   ]
  },
  {
   "cell_type": "code",
   "execution_count": 13,
   "metadata": {},
   "outputs": [
    {
     "name": "stdout",
     "output_type": "stream",
     "text": [
      "['docno', 'score', 'rank', 'title', 'text', 'url', 'bm25', 'cos_sim', 'question', 'questionno', 'questiontype', 'snippets', 'title_snippets', 'abstract_snippets', 'offset_title', 'offset_abstract', 'answer_abstracts_exact', 'answer_abstracts_ideal', 'answer_snippets_exact', 'answer_snippets_ideal', 'docno', 'score', 'rank', 'title', 'text', 'url', 'bm25', 'cos_sim', 'question', 'questionno', 'questiontype', 'snippets_blablador_gpt', 'title_snippets_gpt', 'abstract_snippets_gpt', 'offset_title_gpt', 'offset_abstract_gpt', 'docno', 'score', 'rank', 'title', 'text', 'url', 'bm25', 'cos_sim', 'question', 'questionno', 'questiontype', 'snippets_blablador_mistral', 'title_snippets_mistral', 'abstract_snippets_mistral', 'offset_title_mistral', 'offset_abstract_mistral']\n"
     ]
    }
   ],
   "source": [
    "print(rearnked_merged.columns.tolist())"
   ]
  },
  {
   "cell_type": "code",
   "execution_count": 6,
   "metadata": {},
   "outputs": [],
   "source": [
    "# reranked[\"snippets_blablador_gpt\"] = reranked.apply(\n",
    "#     lambda x: get_snippets_blablador(\n",
    "#         question.body, x[\"title\"], x[\"text\"], model=\"gpt-3.5-turbo\"\n",
    "#     ),\n",
    "#     axis=1,\n",
    "# )\n",
    "# reranked[\"snippets_blablador_mistral\"] = reranked.apply(\n",
    "#     lambda x: get_snippets_blablador(\n",
    "#         question.body, x[\"title\"], x[\"text\"], model=\"Mistral-7B-Instruct-v0.2\"\n",
    "#     ),\n",
    "#     axis=1,\n",
    "# )\n",
    "# reranked[\"title_snippets_gpt\"] = [x[0] for x in reranked[\"snippets_blablador_gpt\"]]\n",
    "# reranked[\"abstract_snippets_gpt\"] = [\n",
    "#     x[1] for x in reranked[\"snippets_blablador_gpt\"]\n",
    "# ]\n",
    "# reranked[\"title_snippets_mistral\"] = [\n",
    "#     x[0] for x in reranked[\"snippets_blablador_mistral\"]\n",
    "# ]\n",
    "# reranked[\"abstract_snippets_mistral\"] = [\n",
    "#     x[1] for x in reranked[\"snippets_blablador_mistral\"]\n",
    "# ]\n",
    "\n",
    "# reranked[\"offset_title_gpt\"] = reranked.apply(\n",
    "#     lambda x: get_offset(x[\"title_snippets_gpt\"], x[\"text\"]), axis=1\n",
    "# )\n",
    "# reranked[\"offset_abstract_gpt\"] = reranked.apply(\n",
    "#     lambda x: get_offset(x[\"abstract_snippets_gpt\"], x[\"text\"]), axis=1\n",
    "# )\n",
    "\n",
    "# reranked[\"offset_title_mistral\"] = reranked.apply(\n",
    "#     lambda x: get_offset(x[\"title_snippets_mistral\"], x[\"text\"]), axis=1\n",
    "# )\n",
    "# reranked[\"offset_abstract_mistral\"] = reranked.apply(\n",
    "#     lambda x: get_offset(x[\"abstract_snippets_mistral\"], x[\"text\"]), axis=1\n",
    "# )\n",
    "\n",
    "\n",
    "# reranked[\"answer_abstracts_exact\"] = [\n",
    "#     response_exact_answer(\n",
    "#         question.body,\n",
    "#         question.type,\n",
    "#         \" \".join(reranked[\"text\"].tolist()[:ABSTRACTS_FOR_ANSWER]),\n",
    "#     )\n",
    "# ] * len(reranked)\n",
    "# reranked[\"answer_abstracts_ideal\"] = [\n",
    "#     response_ideal_answer(\n",
    "#         question.body,\n",
    "#         question.type,\n",
    "#         \" \".join(reranked[\"text\"].tolist()[:ABSTRACTS_FOR_ANSWER]),\n",
    "#     )\n",
    "# ] * len(reranked)\n",
    "# reranked[\"answer_snippets_exact\"] = [\n",
    "#     response_exact_answer(\n",
    "#         question.body,\n",
    "#         question.type,\n",
    "#         \" \".join(\n",
    "#             flat_list(reranked[\"abstract_snippets\"].tolist())\n",
    "#             + flat_list(reranked[\"title_snippets\"])\n",
    "#         ),\n",
    "#     )\n",
    "# ] * len(reranked)\n",
    "# reranked[\"answer_snippets_ideal\"] = [\n",
    "#     response_ideal_answer(\n",
    "#         question.body,\n",
    "#         question.type,\n",
    "#         \" \".join(\n",
    "#             flat_list(reranked[\"abstract_snippets\"].tolist())\n",
    "#             + flat_list(reranked[\"title_snippets\"])\n",
    "#         ),\n",
    "#     )\n",
    "# ] * len(reranked)"
   ]
  }
 ],
 "metadata": {
  "kernelspec": {
   "display_name": "venv",
   "language": "python",
   "name": "python3"
  },
  "language_info": {
   "codemirror_mode": {
    "name": "ipython",
    "version": 3
   },
   "file_extension": ".py",
   "mimetype": "text/x-python",
   "name": "python",
   "nbconvert_exporter": "python",
   "pygments_lexer": "ipython3",
   "version": "3.10.12"
  }
 },
 "nbformat": 4,
 "nbformat_minor": 2
}
