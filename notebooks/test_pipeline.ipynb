{
 "cells": [
  {
   "cell_type": "code",
   "execution_count": 1,
   "metadata": {},
   "outputs": [],
   "source": [
    "import json\n",
    "\n",
    "from mibi.modules import DocumentsModule, Question\n",
    "from test_utils import (\n",
    "    get_snippets,\n",
    "    PubMedApiRetrieve,\n",
    "    rerank_biencoder,\n",
    "    get_snippets,\n",
    "    get_offset,\n",
    "    response_exact_answer,\n",
    "    response_ideal_answer,\n",
    "    flat_list,\n",
    ")"
   ]
  },
  {
   "cell_type": "code",
   "execution_count": 2,
   "metadata": {},
   "outputs": [
    {
     "name": "stdout",
     "output_type": "stream",
     "text": [
      "dict_keys(['body', 'documents', 'ideal_answer', 'exact_answer', 'type', 'id', 'snippets'])\n"
     ]
    }
   ],
   "source": [
    "TEST_FILE = \"../../data/bioasq-data/training12b_new.json\"\n",
    "\n",
    "with open(TEST_FILE, \"r\") as f:\n",
    "    data = json.load(f)\n",
    "\n",
    "data = data[\"questions\"][2:3]  # for the test purpose, take one instance\n",
    "print(data[0].keys())"
   ]
  },
  {
   "cell_type": "code",
   "execution_count": 3,
   "metadata": {},
   "outputs": [],
   "source": [
    "RETRIEVE_TOP_K = 5\n",
    "RERANK_TOP_K = 5\n",
    "ABSTRACTS_FOR_ANSWER = 3"
   ]
  },
  {
   "cell_type": "code",
   "execution_count": 7,
   "metadata": {},
   "outputs": [
    {
     "name": "stdout",
     "output_type": "stream",
     "text": [
      "['We also observed the accumulation of many structural and extracellular proteins such as papilin-like protein, which glycosylation increase its stability-based molecular modeling.', 'The differentially expressed genes were mainly associated with catalytic activity, oxidoreductase activity and transmembrane transporter activity, which significantly contributed to extracellular matrix-receptor interaction, fatty acids biosynthesis as well as glycine, serine, and threonine metabolism.']\n",
      "[]\n",
      "['We also observed the accumulation of many structural and extracellular proteins such as papilin-like protein, which glycosylation increase its stability-based molecular modeling.', 'The differentially expressed genes were mainly associated with catalytic activity, oxidoreductase activity and transmembrane transporter activity, which significantly contributed to extracellular matrix-receptor interaction, fatty acids biosynthesis as well as glycine, serine, and threonine metabolism.']\n",
      "[]\n"
     ]
    }
   ],
   "source": [
    "questions = [\n",
    "    Question(\n",
    "        id=q[\"id\"],\n",
    "        type=q[\"type\"],\n",
    "        body=q[\"body\"],\n",
    "    )\n",
    "    for q in data\n",
    "]\n",
    "for question in questions:\n",
    "    retrieve_abstracts = PubMedApiRetrieve(verbose=True, num_results=RETRIEVE_TOP_K)\n",
    "    retrieved = retrieve_abstracts.transform(questions)\n",
    "    retrieved[\"cos_sim\"] = rerank_biencoder(question, retrieved)\n",
    "    reranked = retrieved.sort_values(\"cos_sim\", ascending=False)[:RERANK_TOP_K]\n",
    "    reranked[\"snippets\"] = reranked.apply(\n",
    "        lambda x: get_snippets(question.body, x[\"title\"], x[\"text\"]), axis=1\n",
    "    )\n",
    "    reranked[\"title_snippets\"] = [x[0] for x in reranked[\"snippets\"]]\n",
    "    reranked[\"abstract_snippets\"] = [x[1] for x in reranked[\"snippets\"]]\n",
    "    reranked[\"offset_title\"] = reranked.apply(\n",
    "        lambda x: get_offset(x[\"title_snippets\"], x[\"text\"]), axis=1\n",
    "    )\n",
    "    reranked[\"offset_abstract\"] = reranked.apply(\n",
    "        lambda x: get_offset(x[\"abstract_snippets\"], x[\"text\"]), axis=1\n",
    "    )\n",
    "    reranked[\"answer_abstracts_exact\"] = [\n",
    "        response_exact_answer(\n",
    "            question.body,\n",
    "            question.type,\n",
    "            \" \".join(reranked[\"text\"].tolist()[:ABSTRACTS_FOR_ANSWER]),\n",
    "        )\n",
    "    ] * len(reranked)\n",
    "    reranked[\"answer_abstracts_ideal\"] = [\n",
    "        response_ideal_answer(\n",
    "            question.body,\n",
    "            question.type,\n",
    "            \" \".join(reranked[\"text\"].tolist()[:ABSTRACTS_FOR_ANSWER]),\n",
    "        )\n",
    "    ] * len(reranked)\n",
    "    reranked[\"answer_snippets_exact\"] = [\n",
    "        response_exact_answer(\n",
    "            question.body,\n",
    "            question.type,\n",
    "            \" \".join(\n",
    "                flat_list(reranked[\"abstract_snippets\"].tolist())\n",
    "                + flat_list(reranked[\"title_snippets\"])\n",
    "            ),\n",
    "        )\n",
    "    ] * len(reranked)\n",
    "    reranked[\"answer_snippets_ideal\"] = [\n",
    "        response_ideal_answer(\n",
    "            question.body,\n",
    "            question.type,\n",
    "            \" \".join(\n",
    "                flat_list(reranked[\"abstract_snippets\"].tolist())\n",
    "                + flat_list(reranked[\"title_snippets\"])\n",
    "            ),\n",
    "        )\n",
    "    ] * len(reranked)"
   ]
  },
  {
   "cell_type": "code",
   "execution_count": 9,
   "metadata": {},
   "outputs": [
    {
     "data": {
      "text/plain": [
       "('yesno', 'Is the protein Papilin secreted?')"
      ]
     },
     "execution_count": 9,
     "metadata": {},
     "output_type": "execute_result"
    }
   ],
   "source": [
    "questions[0].type, questions[0].body"
   ]
  },
  {
   "cell_type": "code",
   "execution_count": 8,
   "metadata": {},
   "outputs": [
    {
     "data": {
      "text/html": [
       "<div>\n",
       "<style scoped>\n",
       "    .dataframe tbody tr th:only-of-type {\n",
       "        vertical-align: middle;\n",
       "    }\n",
       "\n",
       "    .dataframe tbody tr th {\n",
       "        vertical-align: top;\n",
       "    }\n",
       "\n",
       "    .dataframe thead th {\n",
       "        text-align: right;\n",
       "    }\n",
       "</style>\n",
       "<table border=\"1\" class=\"dataframe\">\n",
       "  <thead>\n",
       "    <tr style=\"text-align: right;\">\n",
       "      <th></th>\n",
       "      <th>docno</th>\n",
       "      <th>score</th>\n",
       "      <th>rank</th>\n",
       "      <th>title</th>\n",
       "      <th>text</th>\n",
       "      <th>url</th>\n",
       "      <th>cos_sim</th>\n",
       "      <th>snippets</th>\n",
       "      <th>title_snippets</th>\n",
       "      <th>abstract_snippets</th>\n",
       "      <th>offset_title</th>\n",
       "      <th>offset_abstract</th>\n",
       "      <th>answer_abstracts_exact</th>\n",
       "      <th>answer_abstracts_ideal</th>\n",
       "      <th>answer_snippets_exact</th>\n",
       "      <th>answer_snippets_ideal</th>\n",
       "    </tr>\n",
       "  </thead>\n",
       "  <tbody>\n",
       "    <tr>\n",
       "      <th>0</th>\n",
       "      <td>38284126</td>\n",
       "      <td>0</td>\n",
       "      <td>1</td>\n",
       "      <td>Secreted ADAMTS-like proteins as regulators of...</td>\n",
       "      <td>The extracellular matrix (ECM) determines func...</td>\n",
       "      <td>https://pubmed.ncbi.nlm.nih.gov/38284126/</td>\n",
       "      <td>0.362601</td>\n",
       "      <td>([], [])</td>\n",
       "      <td>[]</td>\n",
       "      <td>[]</td>\n",
       "      <td>[]</td>\n",
       "      <td>[]</td>\n",
       "      <td>yes</td>\n",
       "      <td>[Yes, the protein Papilin is secreted.]</td>\n",
       "      <td>yes</td>\n",
       "      <td>[Based on the information provided, it is not ...</td>\n",
       "    </tr>\n",
       "    <tr>\n",
       "      <th>2</th>\n",
       "      <td>34240827</td>\n",
       "      <td>0</td>\n",
       "      <td>3</td>\n",
       "      <td>Primary angle closure glaucoma is characterize...</td>\n",
       "      <td>To characterize the proteome of the iris in pr...</td>\n",
       "      <td>https://pubmed.ncbi.nlm.nih.gov/34240827/</td>\n",
       "      <td>0.302506</td>\n",
       "      <td>([], [])</td>\n",
       "      <td>[]</td>\n",
       "      <td>[]</td>\n",
       "      <td>[]</td>\n",
       "      <td>[]</td>\n",
       "      <td>yes</td>\n",
       "      <td>[Yes, the protein Papilin is secreted.]</td>\n",
       "      <td>yes</td>\n",
       "      <td>[Based on the information provided, it is not ...</td>\n",
       "    </tr>\n",
       "    <tr>\n",
       "      <th>1</th>\n",
       "      <td>36997062</td>\n",
       "      <td>0</td>\n",
       "      <td>2</td>\n",
       "      <td>The ovaries of ivermectin-resistant Rhipicepha...</td>\n",
       "      <td>Controlling Rhipicephalus microplus is among t...</td>\n",
       "      <td>https://pubmed.ncbi.nlm.nih.gov/36997062/</td>\n",
       "      <td>0.297135</td>\n",
       "      <td>([], [We also observed the accumulation of man...</td>\n",
       "      <td>[]</td>\n",
       "      <td>[We also observed the accumulation of many str...</td>\n",
       "      <td>[]</td>\n",
       "      <td>[(868, 1046)]</td>\n",
       "      <td>yes</td>\n",
       "      <td>[Yes, the protein Papilin is secreted.]</td>\n",
       "      <td>yes</td>\n",
       "      <td>[Based on the information provided, it is not ...</td>\n",
       "    </tr>\n",
       "    <tr>\n",
       "      <th>4</th>\n",
       "      <td>32585132</td>\n",
       "      <td>0</td>\n",
       "      <td>5</td>\n",
       "      <td>Comprehensive Endogenous Tagging of Basement M...</td>\n",
       "      <td>Basement membranes (BMs) are supramolecular ma...</td>\n",
       "      <td>https://pubmed.ncbi.nlm.nih.gov/32585132/</td>\n",
       "      <td>0.279801</td>\n",
       "      <td>([], [])</td>\n",
       "      <td>[]</td>\n",
       "      <td>[]</td>\n",
       "      <td>[]</td>\n",
       "      <td>[]</td>\n",
       "      <td>yes</td>\n",
       "      <td>[Yes, the protein Papilin is secreted.]</td>\n",
       "      <td>yes</td>\n",
       "      <td>[Based on the information provided, it is not ...</td>\n",
       "    </tr>\n",
       "    <tr>\n",
       "      <th>3</th>\n",
       "      <td>33590535</td>\n",
       "      <td>0</td>\n",
       "      <td>4</td>\n",
       "      <td>Transcriptional changes revealed genes and pat...</td>\n",
       "      <td>Sphingolipids are ubiquitous structural compon...</td>\n",
       "      <td>https://pubmed.ncbi.nlm.nih.gov/33590535/</td>\n",
       "      <td>0.208988</td>\n",
       "      <td>([], [The differentially expressed genes were ...</td>\n",
       "      <td>[]</td>\n",
       "      <td>[The differentially expressed genes were mainl...</td>\n",
       "      <td>[]</td>\n",
       "      <td>[(1058, 1361)]</td>\n",
       "      <td>yes</td>\n",
       "      <td>[Yes, the protein Papilin is secreted.]</td>\n",
       "      <td>yes</td>\n",
       "      <td>[Based on the information provided, it is not ...</td>\n",
       "    </tr>\n",
       "  </tbody>\n",
       "</table>\n",
       "</div>"
      ],
      "text/plain": [
       "      docno  score  rank                                              title  \\\n",
       "0  38284126      0     1  Secreted ADAMTS-like proteins as regulators of...   \n",
       "2  34240827      0     3  Primary angle closure glaucoma is characterize...   \n",
       "1  36997062      0     2  The ovaries of ivermectin-resistant Rhipicepha...   \n",
       "4  32585132      0     5  Comprehensive Endogenous Tagging of Basement M...   \n",
       "3  33590535      0     4  Transcriptional changes revealed genes and pat...   \n",
       "\n",
       "                                                text  \\\n",
       "0  The extracellular matrix (ECM) determines func...   \n",
       "2  To characterize the proteome of the iris in pr...   \n",
       "1  Controlling Rhipicephalus microplus is among t...   \n",
       "4  Basement membranes (BMs) are supramolecular ma...   \n",
       "3  Sphingolipids are ubiquitous structural compon...   \n",
       "\n",
       "                                         url   cos_sim  \\\n",
       "0  https://pubmed.ncbi.nlm.nih.gov/38284126/  0.362601   \n",
       "2  https://pubmed.ncbi.nlm.nih.gov/34240827/  0.302506   \n",
       "1  https://pubmed.ncbi.nlm.nih.gov/36997062/  0.297135   \n",
       "4  https://pubmed.ncbi.nlm.nih.gov/32585132/  0.279801   \n",
       "3  https://pubmed.ncbi.nlm.nih.gov/33590535/  0.208988   \n",
       "\n",
       "                                            snippets title_snippets  \\\n",
       "0                                           ([], [])             []   \n",
       "2                                           ([], [])             []   \n",
       "1  ([], [We also observed the accumulation of man...             []   \n",
       "4                                           ([], [])             []   \n",
       "3  ([], [The differentially expressed genes were ...             []   \n",
       "\n",
       "                                   abstract_snippets offset_title  \\\n",
       "0                                                 []           []   \n",
       "2                                                 []           []   \n",
       "1  [We also observed the accumulation of many str...           []   \n",
       "4                                                 []           []   \n",
       "3  [The differentially expressed genes were mainl...           []   \n",
       "\n",
       "  offset_abstract answer_abstracts_exact  \\\n",
       "0              []                    yes   \n",
       "2              []                    yes   \n",
       "1   [(868, 1046)]                    yes   \n",
       "4              []                    yes   \n",
       "3  [(1058, 1361)]                    yes   \n",
       "\n",
       "                    answer_abstracts_ideal answer_snippets_exact  \\\n",
       "0  [Yes, the protein Papilin is secreted.]                   yes   \n",
       "2  [Yes, the protein Papilin is secreted.]                   yes   \n",
       "1  [Yes, the protein Papilin is secreted.]                   yes   \n",
       "4  [Yes, the protein Papilin is secreted.]                   yes   \n",
       "3  [Yes, the protein Papilin is secreted.]                   yes   \n",
       "\n",
       "                               answer_snippets_ideal  \n",
       "0  [Based on the information provided, it is not ...  \n",
       "2  [Based on the information provided, it is not ...  \n",
       "1  [Based on the information provided, it is not ...  \n",
       "4  [Based on the information provided, it is not ...  \n",
       "3  [Based on the information provided, it is not ...  "
      ]
     },
     "execution_count": 8,
     "metadata": {},
     "output_type": "execute_result"
    }
   ],
   "source": [
    "reranked.head()"
   ]
  },
  {
   "cell_type": "code",
   "execution_count": 10,
   "metadata": {},
   "outputs": [
    {
     "data": {
      "text/plain": [
       "['Based on the information provided, it is not clear whether the protein Papilin is secreted or not. Further studies are needed to determine its cellular localization and secretion mechanism.']"
      ]
     },
     "execution_count": 10,
     "metadata": {},
     "output_type": "execute_result"
    }
   ],
   "source": [
    "reranked.answer_snippets_ideal.tolist()[0]"
   ]
  },
  {
   "cell_type": "code",
   "execution_count": 31,
   "metadata": {},
   "outputs": [
    {
     "data": {
      "text/plain": [
       "['The differentially expressed genes were mainly associated with catalytic activity, oxidoreductase activity and transmembrane transporter activity, which significantly contributed to extracellular matrix-receptor interaction, fatty acids biosynthesis as well as glycine, serine, and threonine metabolism.']"
      ]
     },
     "execution_count": 31,
     "metadata": {},
     "output_type": "execute_result"
    }
   ],
   "source": [
    "reranked.abstract_snippets.tolist()[4]"
   ]
  },
  {
   "cell_type": "code",
   "execution_count": 2,
   "metadata": {},
   "outputs": [],
   "source": [
    "question = \"Please list 2 human diseases caused by a coronavirus.\"\n",
    "title = \"Host Factors in Coronavirus Replication\"\n",
    "abstract = \"Coronaviruses are pathogens with a serious impact on human and animal health. They mostly cause enteric or respiratory disease, which can be severe and life threatening, e.g., in the case of the zoonotic coronaviruses causing severe acute respiratory syndrome (SARS) and Middle East Respiratory Syndrome (MERS) in humans. Despite the economic and societal impact of such coronavirus infections, and the likelihood of future outbreaks of additional pathogenic coronaviruses, our options to prevent or treat coronavirus infections remain very limited. This highlights the importance of advancing our knowledge on the replication of these viruses and their interactions with the host. Compared to other +RNA viruses, coronaviruses have an exceptionally large genome and employ a complex genome expression strategy. Next to a role in basic virus replication or virus assembly, many of the coronavirus proteins expressed in the infected cell contribute to the coronavirus-host interplay. For example, by interacting with the host cell to create an optimal environment for coronavirus replication, by altering host gene expression or by counteracting the host's antiviral defenses. These coronavirus-host interactions are key to viral pathogenesis and will ultimately determine the outcome of infection. Due to the complexity of the coronavirus proteome and replication cycle, our knowledge of host factors involved in coronavirus replication is still in an early stage compared to what is known for some other +RNA viruses. This review summarizes our current understanding of coronavirus-host interactions at the level of the infected cell, with special attention for the assembly and function of the viral RNA-synthesising machinery and the evasion of cellular innate immune responses.\""
   ]
  },
  {
   "cell_type": "code",
   "execution_count": 4,
   "metadata": {},
   "outputs": [
    {
     "data": {
      "text/plain": [
       "(6, 11)"
      ]
     },
     "execution_count": 4,
     "metadata": {},
     "output_type": "execute_result"
    }
   ],
   "source": [
    "import re\n",
    "\n",
    "a = \"Lorem ipsum dolor sit amet\"\n",
    "re.search(\"ipsum\", a).span()\n",
    "(6, 11)"
   ]
  }
 ],
 "metadata": {
  "kernelspec": {
   "display_name": "venv",
   "language": "python",
   "name": "python3"
  },
  "language_info": {
   "codemirror_mode": {
    "name": "ipython",
    "version": 3
   },
   "file_extension": ".py",
   "mimetype": "text/x-python",
   "name": "python",
   "nbconvert_exporter": "python",
   "pygments_lexer": "ipython3",
   "version": "3.10.12"
  }
 },
 "nbformat": 4,
 "nbformat_minor": 2
}
