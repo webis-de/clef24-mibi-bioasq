{
 "cells": [
  {
   "cell_type": "code",
   "execution_count": 1,
   "metadata": {},
   "outputs": [],
   "source": [
    "import os\n",
    "\n",
    "from llama_index.core import QueryBundle\n",
    "from llama_index.llms.openai import OpenAI as OpenAILlama\n",
    "from llama_index.postprocessor.rankgpt_rerank import RankGPTRerank"
   ]
  },
  {
   "cell_type": "code",
   "execution_count": 2,
   "metadata": {},
   "outputs": [],
   "source": [
    "import nest_asyncio\n",
    "\n",
    "nest_asyncio.apply()"
   ]
  },
  {
   "cell_type": "markdown",
   "metadata": {},
   "source": [
    "# GPT\n"
   ]
  },
  {
   "cell_type": "code",
   "execution_count": 3,
   "metadata": {},
   "outputs": [],
   "source": [
    "openai_key = os.environ.get(\"OPENAI_API_KEY\")\n",
    "\n",
    "reranker = RankGPTRerank(\n",
    "    llm=OpenAILlama(\n",
    "        model=\"gpt-3.5-turbo-16k\",\n",
    "        temperature=0.0,\n",
    "        api_key=openai_key,\n",
    "    ),\n",
    "    top_n=5,\n",
    "    verbose=True,\n",
    ")"
   ]
  },
  {
   "cell_type": "code",
   "execution_count": 4,
   "metadata": {},
   "outputs": [],
   "source": [
    "query = \"Textual text\"\n",
    "query_bundle = QueryBundle(query)"
   ]
  },
  {
   "cell_type": "code",
   "execution_count": 5,
   "metadata": {},
   "outputs": [],
   "source": [
    "from llama_index.core.schema import Document, NodeWithScore\n",
    "from llama_index.core.node_parser import SimpleNodeParser\n",
    "\n",
    "\n",
    "def nodes_from_documents(documents):\n",
    "    transformed_documents = []\n",
    "    for doc in documents:\n",
    "        node_metadata = {\n",
    "            \"title\": doc[\"title\"],\n",
    "            \"link\": doc[\"url\"],\n",
    "            \"score\": doc[\"score\"],\n",
    "        }\n",
    "        document = Document()\n",
    "        document.text = doc[\"text\"]\n",
    "        document.metadata = node_metadata\n",
    "        transformed_documents.append(document)\n",
    "    base_node_parser = SimpleNodeParser()\n",
    "    nodes = base_node_parser.get_nodes_from_documents(transformed_documents)\n",
    "    return [NodeWithScore(node=node, score=node.metadata[\"score\"]) for node in nodes]"
   ]
  },
  {
   "cell_type": "code",
   "execution_count": 6,
   "metadata": {},
   "outputs": [],
   "source": [
    "documents = [\n",
    "    {\n",
    "        \"title\": \"Title 1\",\n",
    "        \"url\": \"https://example.com/1\",\n",
    "        \"text\": \"Text 1...\",\n",
    "        \"score\": 0.9,\n",
    "    },\n",
    "    {\n",
    "        \"title\": \"Title 2\",\n",
    "        \"url\": \"https://example.com/2\",\n",
    "        \"text\": \"Text 2... text\",\n",
    "        \"score\": 0.8,\n",
    "    },\n",
    "    {\n",
    "        \"title\": \"Title 3\",\n",
    "        \"url\": \"https://example.com/3\",\n",
    "        \"text\": \"Text 3... Textual text\",\n",
    "        \"score\": 0.7,\n",
    "    },\n",
    "]"
   ]
  },
  {
   "cell_type": "code",
   "execution_count": 7,
   "metadata": {},
   "outputs": [
    {
     "name": "stdout",
     "output_type": "stream",
     "text": [
      "After Reranking, new rank list for nodes: [2, 0, 1]"
     ]
    }
   ],
   "source": [
    "retrieved_nodes = nodes_from_documents(documents)\n",
    "\n",
    "reranked_nodes = reranker.postprocess_nodes(retrieved_nodes, query_bundle)"
   ]
  },
  {
   "cell_type": "code",
   "execution_count": 8,
   "metadata": {},
   "outputs": [
    {
     "data": {
      "text/html": [
       "<table border=\"1\" class=\"dataframe\">\n",
       "  <thead>\n",
       "    <tr style=\"text-align: right;\">\n",
       "      <th></th>\n",
       "      <th>Score</th>\n",
       "      <th>Text</th>\n",
       "    </tr>\n",
       "  </thead>\n",
       "  <tbody>\n",
       "    <tr>\n",
       "      <th>0</th>\n",
       "      <td>0.7</td>\n",
       "      <td>Text 3... Textual text</td>\n",
       "    </tr>\n",
       "    <tr>\n",
       "      <th>1</th>\n",
       "      <td>0.9</td>\n",
       "      <td>Text 1...</td>\n",
       "    </tr>\n",
       "    <tr>\n",
       "      <th>2</th>\n",
       "      <td>0.8</td>\n",
       "      <td>Text 2... text</td>\n",
       "    </tr>\n",
       "  </tbody>\n",
       "</table>"
      ],
      "text/plain": [
       "<IPython.core.display.HTML object>"
      ]
     },
     "metadata": {},
     "output_type": "display_data"
    }
   ],
   "source": [
    "import pandas as pd\n",
    "from IPython.display import display, HTML\n",
    "\n",
    "\n",
    "def pretty_print(df):\n",
    "    return display(HTML(df.to_html().replace(\"\\\\n\", \"<br>\")))\n",
    "\n",
    "\n",
    "def visualize_retrieved_nodes(nodes) -> None:\n",
    "    result_dicts = []\n",
    "    for node in nodes:\n",
    "        result_dict = {\"Score\": node.score, \"Text\": node.node.get_text()}\n",
    "        result_dicts.append(result_dict)\n",
    "\n",
    "    pretty_print(pd.DataFrame(result_dicts))\n",
    "\n",
    "\n",
    "visualize_retrieved_nodes(reranked_nodes)"
   ]
  },
  {
   "cell_type": "markdown",
   "metadata": {},
   "source": [
    "# Mistral\n"
   ]
  },
  {
   "cell_type": "code",
   "execution_count": 9,
   "metadata": {},
   "outputs": [],
   "source": [
    "from llama_index.llms.ollama import Ollama\n",
    "\n",
    "# download and install https://ollama.com/\n",
    "# run in CLI: ollama serve\n",
    "\n",
    "llm = Ollama(\n",
    "    model=\"mistral\", request_timeout=30.0\n",
    ")  # mixtral is possible; demands 48GB RAM\n",
    "\n",
    "reranker = RankGPTRerank(\n",
    "    llm=llm,\n",
    "    top_n=5,\n",
    "    verbose=True,\n",
    ")"
   ]
  },
  {
   "cell_type": "code",
   "execution_count": 10,
   "metadata": {},
   "outputs": [
    {
     "name": "stdout",
     "output_type": "stream",
     "text": [
      "After Reranking, new rank list for nodes: [2, 0, 1]"
     ]
    }
   ],
   "source": [
    "retrieved_nodes = nodes_from_documents(documents)\n",
    "\n",
    "reranked_nodes = reranker.postprocess_nodes(retrieved_nodes, query_bundle)"
   ]
  },
  {
   "cell_type": "code",
   "execution_count": 11,
   "metadata": {},
   "outputs": [
    {
     "data": {
      "text/html": [
       "<table border=\"1\" class=\"dataframe\">\n",
       "  <thead>\n",
       "    <tr style=\"text-align: right;\">\n",
       "      <th></th>\n",
       "      <th>Score</th>\n",
       "      <th>Text</th>\n",
       "    </tr>\n",
       "  </thead>\n",
       "  <tbody>\n",
       "    <tr>\n",
       "      <th>0</th>\n",
       "      <td>0.7</td>\n",
       "      <td>Text 3... Textual text</td>\n",
       "    </tr>\n",
       "    <tr>\n",
       "      <th>1</th>\n",
       "      <td>0.9</td>\n",
       "      <td>Text 1...</td>\n",
       "    </tr>\n",
       "    <tr>\n",
       "      <th>2</th>\n",
       "      <td>0.8</td>\n",
       "      <td>Text 2... text</td>\n",
       "    </tr>\n",
       "  </tbody>\n",
       "</table>"
      ],
      "text/plain": [
       "<IPython.core.display.HTML object>"
      ]
     },
     "metadata": {},
     "output_type": "display_data"
    }
   ],
   "source": [
    "visualize_retrieved_nodes(reranked_nodes)"
   ]
  }
 ],
 "metadata": {
  "kernelspec": {
   "display_name": "venv",
   "language": "python",
   "name": "python3"
  },
  "language_info": {
   "codemirror_mode": {
    "name": "ipython",
    "version": 3
   },
   "file_extension": ".py",
   "mimetype": "text/x-python",
   "name": "python",
   "nbconvert_exporter": "python",
   "pygments_lexer": "ipython3",
   "version": "3.10.12"
  }
 },
 "nbformat": 4,
 "nbformat_minor": 2
}
