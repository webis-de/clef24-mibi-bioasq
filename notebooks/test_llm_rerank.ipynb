{
 "cells": [
  {
   "cell_type": "code",
   "execution_count": 8,
   "metadata": {},
   "outputs": [],
   "source": [
    "import os\n",
    "\n",
    "from llama_index.core import QueryBundle\n",
    "from llama_index.llms.openai import OpenAI as OpenAILlama\n",
    "from llama_index.postprocessor.rankgpt_rerank import RankGPTRerank"
   ]
  },
  {
   "cell_type": "code",
   "execution_count": 6,
   "metadata": {},
   "outputs": [],
   "source": [
    "openai_key = os.environ.get(\"OPENAI_API_KEY\")\n",
    "\n",
    "reranker = RankGPTRerank(\n",
    "    llm=OpenAILlama(\n",
    "        model=\"gpt-3.5-turbo-16k\",\n",
    "        temperature=0.0,\n",
    "        api_key=openai_key,\n",
    "    ),\n",
    "    top_n=5,\n",
    "    verbose=True,\n",
    ")"
   ]
  },
  {
   "cell_type": "code",
   "execution_count": 9,
   "metadata": {},
   "outputs": [],
   "source": [
    "query = \"query\"\n",
    "query_bundle = QueryBundle(query)"
   ]
  },
  {
   "cell_type": "code",
   "execution_count": 10,
   "metadata": {},
   "outputs": [],
   "source": [
    "from llama_index.core.schema import Document, NodeWithScore\n",
    "from llama_index.core.node_parser import SimpleNodeParser\n",
    "\n",
    "\n",
    "def get_nodes_ddgs(documents):\n",
    "    transformed_documents = []\n",
    "    for doc in documents:\n",
    "        node_metadata = {\"title\": doc[\"title\"], \"link\": doc[\"url\"]}\n",
    "        document = Document()\n",
    "        document.text = doc[\"text\"]\n",
    "        document.metadata = node_metadata\n",
    "        transformed_documents.append(document)\n",
    "    base_node_parser = SimpleNodeParser()\n",
    "    nodes = base_node_parser.get_nodes_from_documents(transformed_documents)\n",
    "    return [NodeWithScore(node=node, score=1.0) for node in nodes]"
   ]
  },
  {
   "cell_type": "code",
   "execution_count": 12,
   "metadata": {},
   "outputs": [],
   "source": [
    "documents = [\n",
    "    {\n",
    "        \"title\": \"Title 1\",\n",
    "        \"url\": \"https://example.com/1\",\n",
    "        \"text\": \"Text 1...\",\n",
    "    },\n",
    "    {\n",
    "        \"title\": \"Title 2\",\n",
    "        \"url\": \"https://example.com/2\",\n",
    "        \"text\": \"Text 2...\",\n",
    "    },\n",
    "    {\n",
    "        \"title\": \"Title 3\",\n",
    "        \"url\": \"https://example.com/3\",\n",
    "        \"text\": \"Text 3...\",\n",
    "    },\n",
    "]"
   ]
  },
  {
   "cell_type": "code",
   "execution_count": 13,
   "metadata": {},
   "outputs": [
    {
     "name": "stdout",
     "output_type": "stream",
     "text": [
      "After Reranking, new rank list for nodes: [0, 1, 2]"
     ]
    }
   ],
   "source": [
    "retrieved_nodes = get_nodes_ddgs(documents)\n",
    "\n",
    "reranked_nodes = reranker.postprocess_nodes(retrieved_nodes, query_bundle)"
   ]
  },
  {
   "cell_type": "code",
   "execution_count": 14,
   "metadata": {},
   "outputs": [
    {
     "data": {
      "text/plain": [
       "[NodeWithScore(node=TextNode(id_='fe829497-80bf-489b-bfad-c818279b498d', embedding=None, metadata={'title': 'Title 1', 'link': 'https://example.com/1'}, excluded_embed_metadata_keys=[], excluded_llm_metadata_keys=[], relationships={<NodeRelationship.SOURCE: '1'>: RelatedNodeInfo(node_id='9d2fee24-cf2c-473d-acc1-c8ffbadefb9c', node_type=<ObjectType.DOCUMENT: '4'>, metadata={'title': 'Title 1', 'link': 'https://example.com/1'}, hash='d19b076ea75d4657024a65a8dcac8a0b0b3eb6d2fab30980d79c1eaf06f18e29'), <NodeRelationship.NEXT: '3'>: RelatedNodeInfo(node_id='c595028e-1d38-4ac8-a9cb-a865c22fdec7', node_type=<ObjectType.TEXT: '1'>, metadata={}, hash='d6bcd16ebaee8bc87b8ae935075678995e4d57472f8b4b6f16f694e462a22d4f')}, text='Text 1...', start_char_idx=0, end_char_idx=9, text_template='{metadata_str}\\n\\n{content}', metadata_template='{key}: {value}', metadata_seperator='\\n'), score=1.0),\n",
       " NodeWithScore(node=TextNode(id_='c595028e-1d38-4ac8-a9cb-a865c22fdec7', embedding=None, metadata={'title': 'Title 2', 'link': 'https://example.com/2'}, excluded_embed_metadata_keys=[], excluded_llm_metadata_keys=[], relationships={<NodeRelationship.SOURCE: '1'>: RelatedNodeInfo(node_id='5a8ea20a-eede-4180-8f70-6fc51198c878', node_type=<ObjectType.DOCUMENT: '4'>, metadata={'title': 'Title 2', 'link': 'https://example.com/2'}, hash='2c5b6b37c4b3989628422aa79532d5e6b7c00e8fabf2672814f26a8b00fc9a8d'), <NodeRelationship.PREVIOUS: '2'>: RelatedNodeInfo(node_id='fe829497-80bf-489b-bfad-c818279b498d', node_type=<ObjectType.TEXT: '1'>, metadata={'title': 'Title 1', 'link': 'https://example.com/1'}, hash='d19b076ea75d4657024a65a8dcac8a0b0b3eb6d2fab30980d79c1eaf06f18e29'), <NodeRelationship.NEXT: '3'>: RelatedNodeInfo(node_id='62676d07-6990-433b-a676-f5d5c399cead', node_type=<ObjectType.TEXT: '1'>, metadata={}, hash='98a163372c7fb29f631a599fb1c59d3eb2c696dc3acc320fe9d403229fe1e5a1')}, text='Text 2...', start_char_idx=0, end_char_idx=9, text_template='{metadata_str}\\n\\n{content}', metadata_template='{key}: {value}', metadata_seperator='\\n'), score=1.0),\n",
       " NodeWithScore(node=TextNode(id_='62676d07-6990-433b-a676-f5d5c399cead', embedding=None, metadata={'title': 'Title 3', 'link': 'https://example.com/3'}, excluded_embed_metadata_keys=[], excluded_llm_metadata_keys=[], relationships={<NodeRelationship.SOURCE: '1'>: RelatedNodeInfo(node_id='3d046a23-c5d0-4c0b-a5af-9147442d7ce7', node_type=<ObjectType.DOCUMENT: '4'>, metadata={'title': 'Title 3', 'link': 'https://example.com/3'}, hash='f01f8816014ff0a04f9f478aaa31370298c875eead69c27be2d8e14f96be0357'), <NodeRelationship.PREVIOUS: '2'>: RelatedNodeInfo(node_id='c595028e-1d38-4ac8-a9cb-a865c22fdec7', node_type=<ObjectType.TEXT: '1'>, metadata={'title': 'Title 2', 'link': 'https://example.com/2'}, hash='2c5b6b37c4b3989628422aa79532d5e6b7c00e8fabf2672814f26a8b00fc9a8d')}, text='Text 3...', start_char_idx=0, end_char_idx=9, text_template='{metadata_str}\\n\\n{content}', metadata_template='{key}: {value}', metadata_seperator='\\n'), score=1.0)]"
      ]
     },
     "execution_count": 14,
     "metadata": {},
     "output_type": "execute_result"
    }
   ],
   "source": [
    "reranked_nodes"
   ]
  }
 ],
 "metadata": {
  "kernelspec": {
   "display_name": "venv",
   "language": "python",
   "name": "python3"
  },
  "language_info": {
   "codemirror_mode": {
    "name": "ipython",
    "version": 3
   },
   "file_extension": ".py",
   "mimetype": "text/x-python",
   "name": "python",
   "nbconvert_exporter": "python",
   "pygments_lexer": "ipython3",
   "version": "3.10.12"
  }
 },
 "nbformat": 4,
 "nbformat_minor": 2
}
