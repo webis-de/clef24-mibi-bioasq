{
 "cells": [
  {
   "cell_type": "code",
   "execution_count": 10,
   "metadata": {},
   "outputs": [],
   "source": [
    "import logging as logger\n",
    "\n",
    "from dataclasses import dataclass, field\n",
    "from typing import Optional, Dict, Any\n",
    "from xml.etree.ElementTree import fromstring, Element\n",
    "\n",
    "from pandas import DataFrame\n",
    "from pandas.core.groupby import DataFrameGroupBy\n",
    "from pyterrier.transformer import Transformer\n",
    "from requests import get\n",
    "from tqdm.auto import tqdm\n",
    "\n",
    "\n",
    "@dataclass\n",
    "class PubMedApiRetrieve:\n",
    "    name = \"PubMedApiRetrieve\"\n",
    "\n",
    "    eutils_api_base_url = \"https://eutils.ncbi.nlm.nih.gov/entrez/eutils/\"\n",
    "    esearch_api_url = f\"{eutils_api_base_url}/esearch.fcgi\"\n",
    "    efetch_api_url = f\"{eutils_api_base_url}/efetch.fcgi\"\n",
    "\n",
    "    query_field: str = \"query\"\n",
    "    num_results: Optional[int] = 10\n",
    "    verbose: bool = field(repr=False, default=False)\n",
    "\n",
    "    def _transform_query(self, topic: DataFrame) -> DataFrame:\n",
    "        if len(topic.index) != 1:\n",
    "            raise RuntimeError(\"Can only transform one query at a time.\")\n",
    "\n",
    "        row: Dict[str, Any] = topic.to_dict(orient=\"records\")[0]\n",
    "\n",
    "        query: str = row[self.query_field]\n",
    "        query = query.lower()\n",
    "        query = query.replace(\" \", \"+\")\n",
    "\n",
    "        search_response = get(\n",
    "            f\"{self.esearch_api_url}?\"\n",
    "            f\"db=pubmed&term={query}&retmax={self.num_results}\"\n",
    "        )\n",
    "        search_root = fromstring(search_response.text)\n",
    "        search_id_list = search_root.find(\"IdList\")\n",
    "        search_ids: list[str] = [\n",
    "            element.text.strip() for element in search_id_list.findall(\"Id\")\n",
    "        ]\n",
    "        logger.debug(f\"Found {len(search_ids)} articles for '{query}'.\")\n",
    "\n",
    "        assert len(search_ids) <= self.num_results\n",
    "\n",
    "        search_ids_string = \",\".join(search_ids)\n",
    "        fetch_response = get(\n",
    "            f\"{self.efetch_api_url}?\" f\"db=pubmed&id={search_ids_string}&retmode=xml\"\n",
    "        )\n",
    "        fetch_root = fromstring(fetch_response.text)\n",
    "        fetch_articles: list[Element]\n",
    "        if fetch_root.tag == \"PubmedArticleSet\":\n",
    "            fetch_articles = [\n",
    "                (\n",
    "                    element.find(\"BookDocument\").find(\"Book\")\n",
    "                    if element.find(\"BookDocument\") is not None\n",
    "                    else element.find(\"MedlineCitation\").find(\"Article\")\n",
    "                )\n",
    "                for element in fetch_root\n",
    "            ]\n",
    "        elif fetch_root.tag == \"eFetchResult\":\n",
    "            fetch_articles = []\n",
    "        else:\n",
    "            raise Exception(f\"Unexpected root tag '{fetch_root.tag}'.\")\n",
    "        logger.debug(\n",
    "            f\"Found {len(fetch_articles)} article texts \"\n",
    "            f\"for ids '{search_ids_string}'.\"\n",
    "        )\n",
    "\n",
    "        assert len(search_ids) == len(fetch_articles)\n",
    "\n",
    "        results: list[dict[str, Any]] = []\n",
    "        for i, (doc_id, article) in enumerate(zip(search_ids, fetch_articles)):\n",
    "            title_text = (\n",
    "                article.find(\"BookTitle\").text\n",
    "                if article.find(\"BookTitle\") is not None\n",
    "                else article.find(\"ArticleTitle\").text\n",
    "            )\n",
    "            title = title_text.strip() if title_text is not None else \"\"\n",
    "            abstract_element = article.find(\"Abstract\")\n",
    "            abstract_texts = (\n",
    "                (text.text for text in abstract_element.findall(\"AbstractText\"))\n",
    "                if abstract_element is not None\n",
    "                else []\n",
    "            )\n",
    "            abstract = \" \".join(\n",
    "                [text.strip() for text in abstract_texts if text is not None]\n",
    "            )\n",
    "            results.append(\n",
    "                {\n",
    "                    **row,\n",
    "                    \"docno\": doc_id,\n",
    "                    \"score\": len(results) - i,\n",
    "                    \"rank\": i + 1,\n",
    "                    \"title\": title,\n",
    "                    \"text\": abstract,\n",
    "                    \"url\": f\"https://pubmed.ncbi.nlm.nih.gov/{doc_id}/\",\n",
    "                }\n",
    "            )\n",
    "\n",
    "        return DataFrame(results)\n",
    "\n",
    "    def transform(self, topics: DataFrame) -> DataFrame:\n",
    "        if not {\"qid\", \"query\"}.issubset(topics.columns):\n",
    "            raise RuntimeError(\"Needs qid and query columns.\")\n",
    "\n",
    "        if len(topics) == 0:\n",
    "            return self._transform_query(topics)\n",
    "\n",
    "        topics_by_query: DataFrameGroupBy = topics.groupby(\n",
    "            by=[\"qid\"],\n",
    "            as_index=False,\n",
    "            sort=False,\n",
    "        )\n",
    "        if self.verbose:\n",
    "            # Show progress during reranking queries.\n",
    "            tqdm.pandas(\n",
    "                desc=\"Searching with PubMed API\",\n",
    "                unit=\"query\",\n",
    "            )\n",
    "            topics_by_query = topics_by_query.progress_apply(self._transform_query)\n",
    "        else:\n",
    "            topics_by_query = topics_by_query.apply(self._transform_query)\n",
    "\n",
    "        retrieved: DataFrame = topics_by_query.reset_index(drop=True)\n",
    "        return retrieved"
   ]
  },
  {
   "cell_type": "code",
   "execution_count": 11,
   "metadata": {},
   "outputs": [],
   "source": [
    "retrieve_abstracts = PubMedApiRetrieve(verbose=True, num_results=10)"
   ]
  },
  {
   "cell_type": "code",
   "execution_count": 18,
   "metadata": {},
   "outputs": [
    {
     "data": {
      "application/vnd.jupyter.widget-view+json": {
       "model_id": "b1d44e739a4444d0a20364adc363913a",
       "version_major": 2,
       "version_minor": 0
      },
      "text/plain": [
       "Searching with PubMed API:   0%|          | 0/1 [00:00<?, ?query/s]"
      ]
     },
     "metadata": {},
     "output_type": "display_data"
    }
   ],
   "source": [
    "topics = DataFrame({\"qid\": [1], \"query\": [\"Do enterococci cause pneumonia?\"]})\n",
    "\n",
    "retrieved = retrieve_abstracts.transform(topics)"
   ]
  },
  {
   "cell_type": "code",
   "execution_count": 19,
   "metadata": {},
   "outputs": [
    {
     "name": "stdout",
     "output_type": "stream",
     "text": [
      "Index(['qid', 'query', 'docno', 'score', 'rank', 'title', 'text', 'url'], dtype='object')\n",
      "Spectrum and antibiotic resistance in community- and hospital-acquired urinary tract infections among adults: Experience from a large tertiary care center in a developing country.\n",
      "It is important to note that the causative agents and patterns of antibiotic resistance vary between urinary tract infections (UTIs) acquired in the community and those acquired in a hospital setting. Therefore, the aim of this study was to compare the types of organisms and patterns of antibiotic resistance in adult patients with community-acquired urinary tract infections (CA-UTIs) and hospital-acquired urinary tract infections (HA-UTIs). Retrospectively, we collected urine samples from patients at An-Najah National University Hospital who experienced nonrecurring urinary tract infections (UTIs) between January 2019 and December 2020. The data were subsequently analyzed using IBM-SPSS A total of 798 nonrepetitive UTI patients were included in our study, in which more than half of the UTIs occurred in female patients (472; 59.1%), and most of the UTIs were of community origin (611; 76.6%). Both community-acquired urinary tract infections (CA-UTIs) and hospital-acquired urinary tract infections (HA-UTIs) were more common in female patients (45.6% and 13.5%, respectively). There are similarities in the etiological profiles of CA-UTI and HA-UTI, but the resistance rates are high, and urine culture is essential for the correct treatment of individual cases, even in primary care.\n"
     ]
    }
   ],
   "source": [
    "print(retrieved.columns)\n",
    "print(retrieved.iloc[0].title)\n",
    "print(retrieved.iloc[0].text)"
   ]
  }
 ],
 "metadata": {
  "kernelspec": {
   "display_name": "venv",
   "language": "python",
   "name": "python3"
  },
  "language_info": {
   "codemirror_mode": {
    "name": "ipython",
    "version": 3
   },
   "file_extension": ".py",
   "mimetype": "text/x-python",
   "name": "python",
   "nbconvert_exporter": "python",
   "pygments_lexer": "ipython3",
   "version": "3.10.12"
  }
 },
 "nbformat": 4,
 "nbformat_minor": 2
}
